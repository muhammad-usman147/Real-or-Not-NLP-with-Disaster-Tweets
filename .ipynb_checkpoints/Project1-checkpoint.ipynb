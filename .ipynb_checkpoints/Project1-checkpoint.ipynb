{
 "cells": [
  {
   "cell_type": "code",
   "execution_count": 0,
   "metadata": {
    "colab": {},
    "colab_type": "code",
    "id": "PS6qsQKgf_g7"
   },
   "outputs": [],
   "source": [
    "from google.colab import drive"
   ]
  },
  {
   "cell_type": "markdown",
   "metadata": {
    "colab_type": "text",
    "id": "58BHZQyJqZlx"
   },
   "source": [
    "connecting google drive to colab "
   ]
  },
  {
   "cell_type": "code",
   "execution_count": 0,
   "metadata": {
    "colab": {
     "base_uri": "https://localhost:8080/",
     "height": 55
    },
    "colab_type": "code",
    "id": "aDhDjKzSqZFJ",
    "outputId": "abe6c901-6732-445a-cb58-2370bb5baec4"
   },
   "outputs": [
    {
     "name": "stdout",
     "output_type": "stream",
     "text": [
      "Drive already mounted at /content/gdrive; to attempt to forcibly remount, call drive.mount(\"/content/gdrive\", force_remount=True).\n"
     ]
    }
   ],
   "source": [
    "drive.mount('/content/gdrive')"
   ]
  },
  {
   "cell_type": "markdown",
   "metadata": {
    "colab_type": "text",
    "id": "cfcRMLtAqSjO"
   },
   "source": [
    "importing operating system "
   ]
  },
  {
   "cell_type": "code",
   "execution_count": 0,
   "metadata": {
    "colab": {},
    "colab_type": "code",
    "id": "nunKwqCGgwuz"
   },
   "outputs": [],
   "source": [
    "import os"
   ]
  },
  {
   "cell_type": "code",
   "execution_count": 0,
   "metadata": {
    "colab": {
     "base_uri": "https://localhost:8080/",
     "height": 199
    },
    "colab_type": "code",
    "id": "7vRxkMW1i4HZ",
    "outputId": "0a74249d-182a-4cf7-bacc-61d4b3a65a94"
   },
   "outputs": [
    {
     "data": {
      "text/plain": [
       "['.config',\n",
       " 'ISIC_2019_Training_Input',\n",
       " 'efficientnet-b2_imagenet_1000_notop.h5',\n",
       " 'efficientnet-b1_imagenet_1000_notop.h5',\n",
       " 'efficientnet-b0_imagenet_1000_notop.h5',\n",
       " 'gdrive',\n",
       " 'efficientnet-b3_imagenet_1000_notop.h5',\n",
       " 'efficientnet-b5_imagenet_1000_notop.h5',\n",
       " 'efficientnet-b4_imagenet_1000_notop.h5',\n",
       " 'sample_data']"
      ]
     },
     "execution_count": 15,
     "metadata": {
      "tags": []
     },
     "output_type": "execute_result"
    }
   ],
   "source": [
    "os.listdir()"
   ]
  },
  {
   "cell_type": "markdown",
   "metadata": {
    "colab_type": "text",
    "id": "SIr01n8MqiJx"
   },
   "source": [
    "Returning the list of entries present in the directory "
   ]
  },
  {
   "cell_type": "markdown",
   "metadata": {
    "colab_type": "text",
    "id": "nH05uS-bqyKm"
   },
   "source": [
    "Further given the folder to check the entries present in it."
   ]
  },
  {
   "cell_type": "markdown",
   "metadata": {
    "colab_type": "text",
    "id": "zIJ2krpOq9jp"
   },
   "source": [
    "To unzip the model file"
   ]
  },
  {
   "cell_type": "code",
   "execution_count": 0,
   "metadata": {
    "colab": {},
    "colab_type": "code",
    "id": "sIhAEqeuoF3s"
   },
   "outputs": [],
   "source": [
    "import zipfile\n",
    "model_path = 'gdrive/My Drive/efficientnet-keras-weights-b0b5.zip' #uploading model path\n",
    "zip_ref = zipfile.ZipFile(model_path, 'r')\n",
    "zip_ref.extractall()\n",
    "zip_ref.close()"
   ]
  },
  {
   "cell_type": "markdown",
   "metadata": {
    "colab_type": "text",
    "id": "_EJX3hT2rCr6"
   },
   "source": [
    "Again to make sure that the unzip files are present in the desired directory "
   ]
  },
  {
   "cell_type": "code",
   "execution_count": 0,
   "metadata": {
    "colab": {
     "base_uri": "https://localhost:8080/",
     "height": 181
    },
    "colab_type": "code",
    "id": "W0oWK2LkoHlu",
    "outputId": "6fd6efe9-dc62-4470-b019-76c41d30f01a"
   },
   "outputs": [
    {
     "data": {
      "text/plain": [
       "['.config',\n",
       " 'efficientnet-b2_imagenet_1000_notop.h5',\n",
       " 'efficientnet-b1_imagenet_1000_notop.h5',\n",
       " 'efficientnet-b0_imagenet_1000_notop.h5',\n",
       " 'gdrive',\n",
       " 'efficientnet-b3_imagenet_1000_notop.h5',\n",
       " 'efficientnet-b5_imagenet_1000_notop.h5',\n",
       " 'efficientnet-b4_imagenet_1000_notop.h5',\n",
       " 'sample_data']"
      ]
     },
     "execution_count": 8,
     "metadata": {
      "tags": []
     },
     "output_type": "execute_result"
    }
   ],
   "source": [
    "os.listdir()"
   ]
  },
  {
   "cell_type": "code",
   "execution_count": 0,
   "metadata": {
    "colab": {},
    "colab_type": "code",
    "id": "pe2zXS5-gD-H"
   },
   "outputs": [],
   "source": [
    "#To unzip the model\n"
   ]
  },
  {
   "cell_type": "code",
   "execution_count": 0,
   "metadata": {
    "colab": {},
    "colab_type": "code",
    "id": "5Qd4dJkKgMRg"
   },
   "outputs": [],
   "source": [
    "import zipfile\n",
    "model_path = 'gdrive/My Drive/ISIC_2019_Training_Input.zip' #uploading model path\n",
    "zip_ref = zipfile.ZipFile(model_path, 'r')\n",
    "zip_ref.extractall()\n",
    "zip_ref.close()"
   ]
  },
  {
   "cell_type": "code",
   "execution_count": 0,
   "metadata": {
    "colab": {},
    "colab_type": "code",
    "id": "9HaGvBMzgVbW"
   },
   "outputs": [],
   "source": [
    "os.listdir()"
   ]
  },
  {
   "cell_type": "code",
   "execution_count": 0,
   "metadata": {
    "colab": {},
    "colab_type": "code",
    "id": "QxNtuh9Oncin"
   },
   "outputs": [],
   "source": [
    "os.listdir('ISIC_2019_Training_Input')"
   ]
  },
  {
   "cell_type": "code",
   "execution_count": 0,
   "metadata": {
    "colab": {},
    "colab_type": "code",
    "id": "ERS0bJfjnsKP"
   },
   "outputs": [],
   "source": [
    "len(os.listdir('ISIC_2019_Training_Input'))"
   ]
  },
  {
   "cell_type": "code",
   "execution_count": 0,
   "metadata": {
    "colab": {},
    "colab_type": "code",
    "id": "cN-UxHSgn9Ql"
   },
   "outputs": [],
   "source": [
    "#resize using opencv"
   ]
  },
  {
   "cell_type": "code",
   "execution_count": 0,
   "metadata": {
    "colab": {},
    "colab_type": "code",
    "id": "ehomrrotoL51"
   },
   "outputs": [],
   "source": [
    "import cv2"
   ]
  },
  {
   "cell_type": "code",
   "execution_count": 0,
   "metadata": {
    "colab": {},
    "colab_type": "code",
    "id": "gv_doXYtoO6F"
   },
   "outputs": [],
   "source": [
    "images_name = os.listdir('ISIC_2019_Training_Input')"
   ]
  },
  {
   "cell_type": "code",
   "execution_count": 0,
   "metadata": {
    "colab": {},
    "colab_type": "code",
    "id": "kC70eerWoaCX"
   },
   "outputs": [],
   "source": [
    "images_list=[]\n",
    "non_jpg_images = 0 #to count all non jpg images\n",
    "for name in images_name:\n",
    "  if 'jpg' in name:\n",
    "    images = cv2.imread('ISIC_2019_Training_Input/'+name)\n",
    "    print('ISIC_2019_Training_Input/'+name)\n",
    "    resized_images = cv2.resize(images, (456,456))\n",
    "    images_list.append(resized_images)\n",
    "  else:\n",
    "    non_jpg_images +=1\n",
    "\n"
   ]
  },
  {
   "cell_type": "code",
   "execution_count": 0,
   "metadata": {
    "colab": {},
    "colab_type": "code",
    "id": "ClcATeU1p7kb"
   },
   "outputs": [],
   "source": [
    "#Labels generate\n",
    "'ISIC_2019_Training_Input/ISIC_0031940.jpg' in images_name"
   ]
  },
  {
   "cell_type": "code",
   "execution_count": 0,
   "metadata": {
    "colab": {},
    "colab_type": "code",
    "id": "2G1ZNRLbrDpv"
   },
   "outputs": [],
   "source": [
    "len(images_list)"
   ]
  },
  {
   "cell_type": "code",
   "execution_count": 0,
   "metadata": {
    "colab": {},
    "colab_type": "code",
    "id": "M3tBavppXKY2"
   },
   "outputs": [],
   "source": []
  }
 ],
 "metadata": {
  "colab": {
   "collapsed_sections": [],
   "machine_shape": "hm",
   "name": "Project1.ipynb",
   "provenance": [],
   "toc_visible": true
  },
  "kernelspec": {
   "display_name": "Python 3",
   "language": "python",
   "name": "python3"
  },
  "language_info": {
   "codemirror_mode": {
    "name": "ipython",
    "version": 3
   },
   "file_extension": ".py",
   "mimetype": "text/x-python",
   "name": "python",
   "nbconvert_exporter": "python",
   "pygments_lexer": "ipython3",
   "version": "3.7.6"
  }
 },
 "nbformat": 4,
 "nbformat_minor": 1
}
