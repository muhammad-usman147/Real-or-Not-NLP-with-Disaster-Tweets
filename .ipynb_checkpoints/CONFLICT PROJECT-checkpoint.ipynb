{
 "cells": [
  {
   "cell_type": "markdown",
   "metadata": {},
   "source": [
    "# Importing "
   ]
  },
  {
   "cell_type": "code",
   "execution_count": 1,
   "metadata": {},
   "outputs": [],
   "source": [
    "import numpy as np \n",
    "import pandas as pd\n",
    "import nltk "
   ]
  },
  {
   "cell_type": "markdown",
   "metadata": {},
   "source": [
    "# Small Team"
   ]
  },
  {
   "cell_type": "code",
   "execution_count": 2,
   "metadata": {},
   "outputs": [
    {
     "data": {
      "text/html": [
       "<div>\n",
       "<style scoped>\n",
       "    .dataframe tbody tr th:only-of-type {\n",
       "        vertical-align: middle;\n",
       "    }\n",
       "\n",
       "    .dataframe tbody tr th {\n",
       "        vertical-align: top;\n",
       "    }\n",
       "\n",
       "    .dataframe thead th {\n",
       "        text-align: right;\n",
       "    }\n",
       "</style>\n",
       "<table border=\"1\" class=\"dataframe\">\n",
       "  <thead>\n",
       "    <tr style=\"text-align: right;\">\n",
       "      <th></th>\n",
       "      <th>Small team</th>\n",
       "      <th>Unnamed: 1</th>\n",
       "      <th>Unnamed: 2</th>\n",
       "    </tr>\n",
       "  </thead>\n",
       "  <tbody>\n",
       "    <tr>\n",
       "      <th>0</th>\n",
       "      <td>x_input</td>\n",
       "      <td>X_input</td>\n",
       "      <td>y_input</td>\n",
       "    </tr>\n",
       "    <tr>\n",
       "      <th>1</th>\n",
       "      <td>Do you think conflicts really exist in the tea...</td>\n",
       "      <td>YES</td>\n",
       "      <td>In 100% surveys big teams and small teams deal...</td>\n",
       "    </tr>\n",
       "    <tr>\n",
       "      <th>2</th>\n",
       "      <td>What impact do you find when you dont have go...</td>\n",
       "      <td>Teamwork , Performance</td>\n",
       "      <td>50% survey results have shown that teamwork wi...</td>\n",
       "    </tr>\n",
       "    <tr>\n",
       "      <th>3</th>\n",
       "      <td>What if you find out some sort of favourism in...</td>\n",
       "      <td>Confront</td>\n",
       "      <td>100% survey results have shown that people fee...</td>\n",
       "    </tr>\n",
       "    <tr>\n",
       "      <th>4</th>\n",
       "      <td>Do you think that equally learning facilities ...</td>\n",
       "      <td>YES</td>\n",
       "      <td>100% survey results of big teams and small tea...</td>\n",
       "    </tr>\n",
       "    <tr>\n",
       "      <th>5</th>\n",
       "      <td>Do you find yourself as a silent member who ne...</td>\n",
       "      <td>Yes , No , Very Rarely</td>\n",
       "      <td>60% members thought they are silent member whe...</td>\n",
       "    </tr>\n",
       "    <tr>\n",
       "      <th>6</th>\n",
       "      <td>Does communication helps a team to save them f...</td>\n",
       "      <td>Yes , Always , No , Yes But rarely</td>\n",
       "      <td>80% survey results have shown that communicati...</td>\n",
       "    </tr>\n",
       "    <tr>\n",
       "      <th>7</th>\n",
       "      <td>Does your manager/team member do respect your ...</td>\n",
       "      <td>Yes usually no</td>\n",
       "      <td>80% survey results have shown that manager res...</td>\n",
       "    </tr>\n",
       "    <tr>\n",
       "      <th>8</th>\n",
       "      <td>Do you find any pressure from your team lead...</td>\n",
       "      <td>No not really , Yes it does</td>\n",
       "      <td>10% survey results have shown that no pressure...</td>\n",
       "    </tr>\n",
       "    <tr>\n",
       "      <th>9</th>\n",
       "      <td>Does team size affect the team performance?</td>\n",
       "      <td>No , Yes sometimes</td>\n",
       "      <td>50% survey results have shown that team size a...</td>\n",
       "    </tr>\n",
       "    <tr>\n",
       "      <th>10</th>\n",
       "      <td>What if you find yourself in an argument, you ...</td>\n",
       "      <td>Explain my point , Leave my point</td>\n",
       "      <td>60% survey results have shown that teams prefe...</td>\n",
       "    </tr>\n",
       "    <tr>\n",
       "      <th>11</th>\n",
       "      <td>Do you prefer to compromise when solving probl...</td>\n",
       "      <td>No compromise , Yes sometime</td>\n",
       "      <td>60% survey results have shown that teams prefe...</td>\n",
       "    </tr>\n",
       "    <tr>\n",
       "      <th>12</th>\n",
       "      <td>If there may not get what you want, but do you...</td>\n",
       "      <td>Yes , No</td>\n",
       "      <td>50% survey results have shown the disagreement...</td>\n",
       "    </tr>\n",
       "    <tr>\n",
       "      <th>13</th>\n",
       "      <td>when you are the person with the greater autho...</td>\n",
       "      <td>Confront , Sometimes avoid</td>\n",
       "      <td>80% survey results have shown that individuals...</td>\n",
       "    </tr>\n",
       "    <tr>\n",
       "      <th>14</th>\n",
       "      <td>When you find yourself disagreeing with other ...</td>\n",
       "      <td>Stand on my point , will let go</td>\n",
       "      <td>50% survey results have shown that individuals...</td>\n",
       "    </tr>\n",
       "    <tr>\n",
       "      <th>15</th>\n",
       "      <td>Do you find out the straight solution of any a...</td>\n",
       "      <td>Straight solution , Figure out reasons</td>\n",
       "      <td>100% survey results have shown that individual...</td>\n",
       "    </tr>\n",
       "    <tr>\n",
       "      <th>16</th>\n",
       "      <td>What if working with a senior member in the te...</td>\n",
       "      <td>Openly express , Sometimes I do respect</td>\n",
       "      <td>60% survey results have shown that individuals...</td>\n",
       "    </tr>\n",
       "  </tbody>\n",
       "</table>\n",
       "</div>"
      ],
      "text/plain": [
       "                                           Small team  \\\n",
       "0                                             x_input   \n",
       "1   Do you think conflicts really exist in the tea...   \n",
       "2   What impact do you find when you dont have go...   \n",
       "3   What if you find out some sort of favourism in...   \n",
       "4   Do you think that equally learning facilities ...   \n",
       "5   Do you find yourself as a silent member who ne...   \n",
       "6   Does communication helps a team to save them f...   \n",
       "7   Does your manager/team member do respect your ...   \n",
       "8   Do you find any pressure from your team lead...   \n",
       "9       Does team size affect the team performance?   \n",
       "10  What if you find yourself in an argument, you ...   \n",
       "11  Do you prefer to compromise when solving probl...   \n",
       "12  If there may not get what you want, but do you...   \n",
       "13  when you are the person with the greater autho...   \n",
       "14  When you find yourself disagreeing with other ...   \n",
       "15  Do you find out the straight solution of any a...   \n",
       "16  What if working with a senior member in the te...   \n",
       "\n",
       "                                 Unnamed: 1  \\\n",
       "0                                   X_input   \n",
       "1                                      YES    \n",
       "2                    Teamwork , Performance   \n",
       "3                                  Confront   \n",
       "4                                      YES    \n",
       "5                    Yes , No , Very Rarely   \n",
       "6        Yes , Always , No , Yes But rarely   \n",
       "7                            Yes usually no   \n",
       "8               No not really , Yes it does   \n",
       "9                        No , Yes sometimes   \n",
       "10        Explain my point , Leave my point   \n",
       "11             No compromise , Yes sometime   \n",
       "12                                Yes , No    \n",
       "13               Confront , Sometimes avoid   \n",
       "14          Stand on my point , will let go   \n",
       "15   Straight solution , Figure out reasons   \n",
       "16  Openly express , Sometimes I do respect   \n",
       "\n",
       "                                           Unnamed: 2  \n",
       "0                                             y_input  \n",
       "1   In 100% surveys big teams and small teams deal...  \n",
       "2   50% survey results have shown that teamwork wi...  \n",
       "3   100% survey results have shown that people fee...  \n",
       "4   100% survey results of big teams and small tea...  \n",
       "5   60% members thought they are silent member whe...  \n",
       "6   80% survey results have shown that communicati...  \n",
       "7   80% survey results have shown that manager res...  \n",
       "8   10% survey results have shown that no pressure...  \n",
       "9   50% survey results have shown that team size a...  \n",
       "10  60% survey results have shown that teams prefe...  \n",
       "11  60% survey results have shown that teams prefe...  \n",
       "12  50% survey results have shown the disagreement...  \n",
       "13  80% survey results have shown that individuals...  \n",
       "14  50% survey results have shown that individuals...  \n",
       "15  100% survey results have shown that individual...  \n",
       "16  60% survey results have shown that individuals...  "
      ]
     },
     "execution_count": 2,
     "metadata": {},
     "output_type": "execute_result"
    }
   ],
   "source": [
    "df  = pd.read_csv('st.csv', encoding = \"ISO-8859-1\")\n",
    "df"
   ]
  },
  {
   "cell_type": "markdown",
   "metadata": {},
   "source": [
    "# Big Team"
   ]
  },
  {
   "cell_type": "code",
   "execution_count": 3,
   "metadata": {},
   "outputs": [
    {
     "data": {
      "text/html": [
       "<div>\n",
       "<style scoped>\n",
       "    .dataframe tbody tr th:only-of-type {\n",
       "        vertical-align: middle;\n",
       "    }\n",
       "\n",
       "    .dataframe tbody tr th {\n",
       "        vertical-align: top;\n",
       "    }\n",
       "\n",
       "    .dataframe thead th {\n",
       "        text-align: right;\n",
       "    }\n",
       "</style>\n",
       "<table border=\"1\" class=\"dataframe\">\n",
       "  <thead>\n",
       "    <tr style=\"text-align: right;\">\n",
       "      <th></th>\n",
       "      <th>Big_team</th>\n",
       "      <th>Unnamed: 1</th>\n",
       "      <th>Unnamed: 2</th>\n",
       "    </tr>\n",
       "  </thead>\n",
       "  <tbody>\n",
       "    <tr>\n",
       "      <th>0</th>\n",
       "      <td>X_input</td>\n",
       "      <td>X_input</td>\n",
       "      <td>y_output</td>\n",
       "    </tr>\n",
       "    <tr>\n",
       "      <th>1</th>\n",
       "      <td>Do you think conflicts really exist in the tea...</td>\n",
       "      <td>YES</td>\n",
       "      <td>In 100% surveys big teams and small teams deal...</td>\n",
       "    </tr>\n",
       "    <tr>\n",
       "      <th>2</th>\n",
       "      <td>What impact do you find when you dont have go...</td>\n",
       "      <td>Teamwork , Performance</td>\n",
       "      <td>60% survey results have shown that teamwork wi...</td>\n",
       "    </tr>\n",
       "    <tr>\n",
       "      <th>3</th>\n",
       "      <td>What if you find out some sort of favourism in...</td>\n",
       "      <td>Confront</td>\n",
       "      <td>100% survey result have shown that people used...</td>\n",
       "    </tr>\n",
       "    <tr>\n",
       "      <th>4</th>\n",
       "      <td>Do you think that equally learning facilities ...</td>\n",
       "      <td>YES</td>\n",
       "      <td>100% survey results of big teams and small tea...</td>\n",
       "    </tr>\n",
       "    <tr>\n",
       "      <th>5</th>\n",
       "      <td>Do you find yourself as a silent member who ne...</td>\n",
       "      <td>Yes , No , Very Rarely</td>\n",
       "      <td>40% members thought they are silent member whe...</td>\n",
       "    </tr>\n",
       "    <tr>\n",
       "      <th>6</th>\n",
       "      <td>Does communication helps a team to save them f...</td>\n",
       "      <td>Yes , Always , No , Yes But rarely</td>\n",
       "      <td>80% survey results have shown that communicati...</td>\n",
       "    </tr>\n",
       "    <tr>\n",
       "      <th>7</th>\n",
       "      <td>Does your manager/team member do respect your ...</td>\n",
       "      <td>Yes usually no</td>\n",
       "      <td>60% survey results have shown that manager res...</td>\n",
       "    </tr>\n",
       "    <tr>\n",
       "      <th>8</th>\n",
       "      <td>Do you find any pressure from your team lead...</td>\n",
       "      <td>No not really , Yes it does</td>\n",
       "      <td>30% survey results have shown that no pressure...</td>\n",
       "    </tr>\n",
       "    <tr>\n",
       "      <th>9</th>\n",
       "      <td>Does team size affect the team performance?</td>\n",
       "      <td>No , Yes sometimes</td>\n",
       "      <td>50% survey results have shown that team size a...</td>\n",
       "    </tr>\n",
       "    <tr>\n",
       "      <th>10</th>\n",
       "      <td>What if you find yourself in an argument, you ...</td>\n",
       "      <td>Explain my point , Leave my point</td>\n",
       "      <td>80% survey results have shown that team prefer...</td>\n",
       "    </tr>\n",
       "    <tr>\n",
       "      <th>11</th>\n",
       "      <td>Do you prefer to compromise when solving probl...</td>\n",
       "      <td>No compromise , Yes sometime</td>\n",
       "      <td>90% survey results have shown that teams prefe...</td>\n",
       "    </tr>\n",
       "    <tr>\n",
       "      <th>12</th>\n",
       "      <td>If there may not get what you want, but do you...</td>\n",
       "      <td>Yes , No</td>\n",
       "      <td>60% survey results have shown the disagreement...</td>\n",
       "    </tr>\n",
       "    <tr>\n",
       "      <th>13</th>\n",
       "      <td>when you are the person with the greater autho...</td>\n",
       "      <td>Confront , Sometimes avoid</td>\n",
       "      <td>80% survey results have shown that individuals...</td>\n",
       "    </tr>\n",
       "    <tr>\n",
       "      <th>14</th>\n",
       "      <td>When you find yourself disagreeing with other ...</td>\n",
       "      <td>Stand on my point , will let go</td>\n",
       "      <td>80% survey have shown that individual stands o...</td>\n",
       "    </tr>\n",
       "    <tr>\n",
       "      <th>15</th>\n",
       "      <td>Do you find out the straight solution of any a...</td>\n",
       "      <td>Straight solution , Figure out reasons</td>\n",
       "      <td>50% survey results have shown that individuals...</td>\n",
       "    </tr>\n",
       "    <tr>\n",
       "      <th>16</th>\n",
       "      <td>What if working with a senior member in the te...</td>\n",
       "      <td>Openly express , Sometimes I do respect</td>\n",
       "      <td>60% survey results have shown that individuals...</td>\n",
       "    </tr>\n",
       "  </tbody>\n",
       "</table>\n",
       "</div>"
      ],
      "text/plain": [
       "                                            Big_team   \\\n",
       "0                                             X_input   \n",
       "1   Do you think conflicts really exist in the tea...   \n",
       "2   What impact do you find when you dont have go...   \n",
       "3   What if you find out some sort of favourism in...   \n",
       "4   Do you think that equally learning facilities ...   \n",
       "5   Do you find yourself as a silent member who ne...   \n",
       "6   Does communication helps a team to save them f...   \n",
       "7   Does your manager/team member do respect your ...   \n",
       "8   Do you find any pressure from your team lead...   \n",
       "9       Does team size affect the team performance?   \n",
       "10  What if you find yourself in an argument, you ...   \n",
       "11  Do you prefer to compromise when solving probl...   \n",
       "12  If there may not get what you want, but do you...   \n",
       "13  when you are the person with the greater autho...   \n",
       "14  When you find yourself disagreeing with other ...   \n",
       "15  Do you find out the straight solution of any a...   \n",
       "16  What if working with a senior member in the te...   \n",
       "\n",
       "                                 Unnamed: 1  \\\n",
       "0                                   X_input   \n",
       "1                                      YES    \n",
       "2                    Teamwork , Performance   \n",
       "3                                  Confront   \n",
       "4                                      YES    \n",
       "5                    Yes , No , Very Rarely   \n",
       "6        Yes , Always , No , Yes But rarely   \n",
       "7                            Yes usually no   \n",
       "8               No not really , Yes it does   \n",
       "9                        No , Yes sometimes   \n",
       "10        Explain my point , Leave my point   \n",
       "11             No compromise , Yes sometime   \n",
       "12                                Yes , No    \n",
       "13               Confront , Sometimes avoid   \n",
       "14          Stand on my point , will let go   \n",
       "15   Straight solution , Figure out reasons   \n",
       "16  Openly express , Sometimes I do respect   \n",
       "\n",
       "                                           Unnamed: 2  \n",
       "0                                            y_output  \n",
       "1   In 100% surveys big teams and small teams deal...  \n",
       "2   60% survey results have shown that teamwork wi...  \n",
       "3   100% survey result have shown that people used...  \n",
       "4   100% survey results of big teams and small tea...  \n",
       "5   40% members thought they are silent member whe...  \n",
       "6   80% survey results have shown that communicati...  \n",
       "7   60% survey results have shown that manager res...  \n",
       "8   30% survey results have shown that no pressure...  \n",
       "9   50% survey results have shown that team size a...  \n",
       "10  80% survey results have shown that team prefer...  \n",
       "11  90% survey results have shown that teams prefe...  \n",
       "12  60% survey results have shown the disagreement...  \n",
       "13  80% survey results have shown that individuals...  \n",
       "14  80% survey have shown that individual stands o...  \n",
       "15  50% survey results have shown that individuals...  \n",
       "16  60% survey results have shown that individuals...  "
      ]
     },
     "execution_count": 3,
     "metadata": {},
     "output_type": "execute_result"
    }
   ],
   "source": [
    "df2  = pd.read_csv('bt.csv', encoding = \"ISO-8859-1\")\n",
    "df2"
   ]
  },
  {
   "cell_type": "code",
   "execution_count": 4,
   "metadata": {},
   "outputs": [],
   "source": [
    "#Small Team"
   ]
  },
  {
   "cell_type": "code",
   "execution_count": 5,
   "metadata": {},
   "outputs": [
    {
     "data": {
      "text/plain": [
       "0                                               x_input\n",
       "1     Do you think conflicts really exist in the tea...\n",
       "2     What impact do you find when you dont have go...\n",
       "3     What if you find out some sort of favourism in...\n",
       "4     Do you think that equally learning facilities ...\n",
       "5     Do you find yourself as a silent member who ne...\n",
       "6     Does communication helps a team to save them f...\n",
       "7     Does your manager/team member do respect your ...\n",
       "8     Do you find any pressure from your team lead...\n",
       "9         Does team size affect the team performance?\n",
       "10    What if you find yourself in an argument, you ...\n",
       "11    Do you prefer to compromise when solving probl...\n",
       "12    If there may not get what you want, but do you...\n",
       "13    when you are the person with the greater autho...\n",
       "14    When you find yourself disagreeing with other ...\n",
       "15    Do you find out the straight solution of any a...\n",
       "16    What if working with a senior member in the te...\n",
       "Name: Small team, dtype: object"
      ]
     },
     "execution_count": 5,
     "metadata": {},
     "output_type": "execute_result"
    }
   ],
   "source": [
    "x = df.iloc[:,0]\n",
    "x"
   ]
  },
  {
   "cell_type": "code",
   "execution_count": 6,
   "metadata": {},
   "outputs": [
    {
     "data": {
      "text/plain": [
       "0                                     X_input\n",
       "1                                        YES \n",
       "2                      Teamwork , Performance\n",
       "3                                    Confront\n",
       "4                                        YES \n",
       "5                      Yes , No , Very Rarely\n",
       "6          Yes , Always , No , Yes But rarely\n",
       "7                              Yes usually no\n",
       "8                 No not really , Yes it does\n",
       "9                          No , Yes sometimes\n",
       "10          Explain my point , Leave my point\n",
       "11               No compromise , Yes sometime\n",
       "12                                  Yes , No \n",
       "13                 Confront , Sometimes avoid\n",
       "14            Stand on my point , will let go\n",
       "15     Straight solution , Figure out reasons\n",
       "16    Openly express , Sometimes I do respect\n",
       "Name: Unnamed: 1, dtype: object"
      ]
     },
     "execution_count": 6,
     "metadata": {},
     "output_type": "execute_result"
    }
   ],
   "source": [
    "y = df.iloc[:,1]\n",
    "y"
   ]
  },
  {
   "cell_type": "code",
   "execution_count": 7,
   "metadata": {},
   "outputs": [],
   "source": [
    "#Big Team"
   ]
  },
  {
   "cell_type": "code",
   "execution_count": 8,
   "metadata": {},
   "outputs": [
    {
     "data": {
      "text/plain": [
       "0                                               X_input\n",
       "1     Do you think conflicts really exist in the tea...\n",
       "2     What impact do you find when you dont have go...\n",
       "3     What if you find out some sort of favourism in...\n",
       "4     Do you think that equally learning facilities ...\n",
       "5     Do you find yourself as a silent member who ne...\n",
       "6     Does communication helps a team to save them f...\n",
       "7     Does your manager/team member do respect your ...\n",
       "8     Do you find any pressure from your team lead...\n",
       "9         Does team size affect the team performance?\n",
       "10    What if you find yourself in an argument, you ...\n",
       "11    Do you prefer to compromise when solving probl...\n",
       "12    If there may not get what you want, but do you...\n",
       "13    when you are the person with the greater autho...\n",
       "14    When you find yourself disagreeing with other ...\n",
       "15    Do you find out the straight solution of any a...\n",
       "16    What if working with a senior member in the te...\n",
       "Name: Big_team , dtype: object"
      ]
     },
     "execution_count": 8,
     "metadata": {},
     "output_type": "execute_result"
    }
   ],
   "source": [
    "x2 = df2.iloc[:,0]\n",
    "x2"
   ]
  },
  {
   "cell_type": "code",
   "execution_count": 9,
   "metadata": {},
   "outputs": [
    {
     "data": {
      "text/plain": [
       "0                                     X_input\n",
       "1                                        YES \n",
       "2                      Teamwork , Performance\n",
       "3                                    Confront\n",
       "4                                        YES \n",
       "5                      Yes , No , Very Rarely\n",
       "6          Yes , Always , No , Yes But rarely\n",
       "7                              Yes usually no\n",
       "8                 No not really , Yes it does\n",
       "9                          No , Yes sometimes\n",
       "10          Explain my point , Leave my point\n",
       "11               No compromise , Yes sometime\n",
       "12                                  Yes , No \n",
       "13                 Confront , Sometimes avoid\n",
       "14            Stand on my point , will let go\n",
       "15     Straight solution , Figure out reasons\n",
       "16    Openly express , Sometimes I do respect\n",
       "Name: Unnamed: 1, dtype: object"
      ]
     },
     "execution_count": 9,
     "metadata": {},
     "output_type": "execute_result"
    }
   ],
   "source": [
    "y2 = df2.iloc[:,1]\n",
    "y2"
   ]
  },
  {
   "cell_type": "markdown",
   "metadata": {},
   "source": [
    "# Concatenate"
   ]
  },
  {
   "cell_type": "code",
   "execution_count": 10,
   "metadata": {},
   "outputs": [],
   "source": [
    "X = np.concatenate([x, x2])"
   ]
  },
  {
   "cell_type": "code",
   "execution_count": 11,
   "metadata": {},
   "outputs": [],
   "source": [
    "Y= np.concatenate([y, y2])"
   ]
  },
  {
   "cell_type": "code",
   "execution_count": 12,
   "metadata": {},
   "outputs": [
    {
     "data": {
      "text/plain": [
       "array(['x_input',\n",
       "       'Do you think conflicts really exist in the team working in software industry',\n",
       "       'What impact do you find when you don\\x92t have good relations with your any team members?',\n",
       "       'What if you find out some sort of favourism in the team?',\n",
       "       'Do you think that equally learning facilities will help team grow together and conflict-free?',\n",
       "       'Do you find yourself as a silent member who never really talks about the problems?',\n",
       "       'Does communication helps a team to save them from conflicts?',\n",
       "       'Does your manager/team member do respect your sentiments and emotions?',\n",
       "       'Do you find any \\x93pressure\\x94 from your team lead when deadlines are just near? ',\n",
       "       'Does \\x93team size\\x94 affect the team performance?',\n",
       "       'What if you find yourself in an argument, you usually say very little and try to leave as soon as possible?',\n",
       "       'Do you prefer to compromise when solving problems and just move on?',\n",
       "       'If there may not get what you want, but do you think that it is a small price to pay for keeping the peace?',\n",
       "       'when you are the person with the greater authority in a conflict situation, you would avoid/ conflict',\n",
       "       'When you find yourself disagreeing with other members of a group on an\\nImportant issue, would you stand by your convictions and defend your position?\\nWhen you find yourself disagreeing with other members of a group on an important issue , would you stand by your convictions and defend your position',\n",
       "       'Do you find out the straight solution of any agreement or just figure out every possible reason which is creating difference?',\n",
       "       'What if working with a senior member in the team which is older in age and experience, do you openly express your opinions or will you keep the respect factor?',\n",
       "       'X_input',\n",
       "       'Do you think conflicts really exist in the team working in software industry',\n",
       "       'What impact do you find when you don\\x92t have good relations with your any team members?',\n",
       "       'What if you find out some sort of favourism in the team?',\n",
       "       'Do you think that equally learning facilities will help team grow together and conflict-free?',\n",
       "       'Do you find yourself as a silent member who never really talks about the problems?',\n",
       "       'Does communication helps a team to save them from conflicts?',\n",
       "       'Does your manager/team member do respect your sentiments and emotions?',\n",
       "       'Do you find any \\x93pressure\\x94 from your team lead when deadlines are just near? ',\n",
       "       'Does \\x93team size\\x94 affect the team performance?',\n",
       "       'What if you find yourself in an argument, you usually say very little and try to leave as soon as possible?',\n",
       "       'Do you prefer to compromise when solving problems and just move on?',\n",
       "       'If there may not get what you want, but do you think that it is a small price to pay for keeping the peace?',\n",
       "       'when you are the person with the greater authority in a conflict situation, you would avoid/ conflict',\n",
       "       'When you find yourself disagreeing with other members of a group on an\\nImportant issue, would you stand by your convictions and defend your position?\\nWhen you find yourself disagreeing with other members of a group on an important issue , would you stand by your convictions and defend your position',\n",
       "       'Do you find out the straight solution of any agreement or just figure out every possible reason which is creating difference?',\n",
       "       'What if working with a senior member in the team which is older in age and experience, do you openly express your opinions or will you keep the respect factor?'],\n",
       "      dtype=object)"
      ]
     },
     "execution_count": 12,
     "metadata": {},
     "output_type": "execute_result"
    }
   ],
   "source": [
    "X"
   ]
  },
  {
   "cell_type": "code",
   "execution_count": 13,
   "metadata": {},
   "outputs": [
    {
     "data": {
      "text/plain": [
       "array(['X_input', 'YES ', 'Teamwork , Performance', 'Confront', 'YES ',\n",
       "       'Yes , No , Very Rarely', 'Yes , Always , No , Yes But rarely',\n",
       "       'Yes usually no', 'No not really , Yes it does',\n",
       "       'No , Yes sometimes', 'Explain my point , Leave my point',\n",
       "       'No compromise , Yes sometime', 'Yes , No ',\n",
       "       'Confront , Sometimes avoid', 'Stand on my point , will let go',\n",
       "       'Straight solution , Figure out reasons',\n",
       "       'Openly express , Sometimes I do respect', 'X_input', 'YES ',\n",
       "       'Teamwork , Performance', 'Confront', 'YES ',\n",
       "       'Yes , No , Very Rarely', 'Yes , Always , No , Yes But rarely',\n",
       "       'Yes usually no', 'No not really , Yes it does',\n",
       "       'No , Yes sometimes', 'Explain my point , Leave my point',\n",
       "       'No compromise , Yes sometime', 'Yes , No ',\n",
       "       'Confront , Sometimes avoid', 'Stand on my point , will let go',\n",
       "       'Straight solution , Figure out reasons',\n",
       "       'Openly express , Sometimes I do respect'], dtype=object)"
      ]
     },
     "execution_count": 13,
     "metadata": {},
     "output_type": "execute_result"
    }
   ],
   "source": [
    "Y"
   ]
  },
  {
   "cell_type": "markdown",
   "metadata": {},
   "source": [
    "# Label Encoding"
   ]
  },
  {
   "cell_type": "code",
   "execution_count": 14,
   "metadata": {},
   "outputs": [
    {
     "name": "stderr",
     "output_type": "stream",
     "text": [
      "Using TensorFlow backend.\n"
     ]
    }
   ],
   "source": [
    "from keras.utils import to_categorical"
   ]
  },
  {
   "cell_type": "code",
   "execution_count": 15,
   "metadata": {},
   "outputs": [],
   "source": [
    "from sklearn.preprocessing import LabelEncoder\n",
    "encoder = LabelEncoder()\n",
    "encoder.fit(Y)\n",
    "encoded_Y = encoder.fit_transform(Y)"
   ]
  },
  {
   "cell_type": "code",
   "execution_count": 16,
   "metadata": {},
   "outputs": [
    {
     "data": {
      "text/plain": [
       "array([10, 11,  9,  0, 11, 14, 12, 15,  5,  3,  2,  4, 13,  1,  7,  8,  6,\n",
       "       10, 11,  9,  0, 11, 14, 12, 15,  5,  3,  2,  4, 13,  1,  7,  8,  6])"
      ]
     },
     "execution_count": 16,
     "metadata": {},
     "output_type": "execute_result"
    }
   ],
   "source": [
    "encoded_Y"
   ]
  },
  {
   "cell_type": "code",
   "execution_count": 17,
   "metadata": {},
   "outputs": [],
   "source": [
    "encded_y_flt = encoded_Y.astype('float32')"
   ]
  },
  {
   "cell_type": "code",
   "execution_count": 18,
   "metadata": {},
   "outputs": [
    {
     "data": {
      "text/plain": [
       "array([10., 11.,  9.,  0., 11., 14., 12., 15.,  5.,  3.,  2.,  4., 13.,\n",
       "        1.,  7.,  8.,  6., 10., 11.,  9.,  0., 11., 14., 12., 15.,  5.,\n",
       "        3.,  2.,  4., 13.,  1.,  7.,  8.,  6.], dtype=float32)"
      ]
     },
     "execution_count": 18,
     "metadata": {},
     "output_type": "execute_result"
    }
   ],
   "source": [
    "encded_y_flt"
   ]
  },
  {
   "cell_type": "markdown",
   "metadata": {},
   "source": [
    "# Word Tokenize "
   ]
  },
  {
   "cell_type": "code",
   "execution_count": 19,
   "metadata": {},
   "outputs": [],
   "source": [
    "from nltk.tokenize import sent_tokenize, word_tokenize"
   ]
  },
  {
   "cell_type": "code",
   "execution_count": 20,
   "metadata": {},
   "outputs": [],
   "source": [
    "data = X"
   ]
  },
  {
   "cell_type": "code",
   "execution_count": 21,
   "metadata": {},
   "outputs": [
    {
     "data": {
      "text/plain": [
       "array(['x_input',\n",
       "       'Do you think conflicts really exist in the team working in software industry',\n",
       "       'What impact do you find when you don\\x92t have good relations with your any team members?',\n",
       "       'What if you find out some sort of favourism in the team?',\n",
       "       'Do you think that equally learning facilities will help team grow together and conflict-free?',\n",
       "       'Do you find yourself as a silent member who never really talks about the problems?',\n",
       "       'Does communication helps a team to save them from conflicts?',\n",
       "       'Does your manager/team member do respect your sentiments and emotions?',\n",
       "       'Do you find any \\x93pressure\\x94 from your team lead when deadlines are just near? ',\n",
       "       'Does \\x93team size\\x94 affect the team performance?',\n",
       "       'What if you find yourself in an argument, you usually say very little and try to leave as soon as possible?',\n",
       "       'Do you prefer to compromise when solving problems and just move on?',\n",
       "       'If there may not get what you want, but do you think that it is a small price to pay for keeping the peace?',\n",
       "       'when you are the person with the greater authority in a conflict situation, you would avoid/ conflict',\n",
       "       'When you find yourself disagreeing with other members of a group on an\\nImportant issue, would you stand by your convictions and defend your position?\\nWhen you find yourself disagreeing with other members of a group on an important issue , would you stand by your convictions and defend your position',\n",
       "       'Do you find out the straight solution of any agreement or just figure out every possible reason which is creating difference?',\n",
       "       'What if working with a senior member in the team which is older in age and experience, do you openly express your opinions or will you keep the respect factor?',\n",
       "       'X_input',\n",
       "       'Do you think conflicts really exist in the team working in software industry',\n",
       "       'What impact do you find when you don\\x92t have good relations with your any team members?',\n",
       "       'What if you find out some sort of favourism in the team?',\n",
       "       'Do you think that equally learning facilities will help team grow together and conflict-free?',\n",
       "       'Do you find yourself as a silent member who never really talks about the problems?',\n",
       "       'Does communication helps a team to save them from conflicts?',\n",
       "       'Does your manager/team member do respect your sentiments and emotions?',\n",
       "       'Do you find any \\x93pressure\\x94 from your team lead when deadlines are just near? ',\n",
       "       'Does \\x93team size\\x94 affect the team performance?',\n",
       "       'What if you find yourself in an argument, you usually say very little and try to leave as soon as possible?',\n",
       "       'Do you prefer to compromise when solving problems and just move on?',\n",
       "       'If there may not get what you want, but do you think that it is a small price to pay for keeping the peace?',\n",
       "       'when you are the person with the greater authority in a conflict situation, you would avoid/ conflict',\n",
       "       'When you find yourself disagreeing with other members of a group on an\\nImportant issue, would you stand by your convictions and defend your position?\\nWhen you find yourself disagreeing with other members of a group on an important issue , would you stand by your convictions and defend your position',\n",
       "       'Do you find out the straight solution of any agreement or just figure out every possible reason which is creating difference?',\n",
       "       'What if working with a senior member in the team which is older in age and experience, do you openly express your opinions or will you keep the respect factor?'],\n",
       "      dtype=object)"
      ]
     },
     "execution_count": 21,
     "metadata": {},
     "output_type": "execute_result"
    }
   ],
   "source": [
    "data"
   ]
  },
  {
   "cell_type": "code",
   "execution_count": 22,
   "metadata": {},
   "outputs": [
    {
     "name": "stdout",
     "output_type": "stream",
     "text": [
      "['[', \"'x_input'\", \"'Do\", 'you', 'think', 'conflicts', 'really', 'exist', 'in', 'the', 'team', 'working', 'in', 'software', \"industry'\", \"'What\", 'impact', 'do', 'you', 'find', 'when', 'you', 'don\\\\x92t', 'have', 'good', 'relations', 'with', 'your', 'any', 'team', 'members', '?', \"'\", \"'What\", 'if', 'you', 'find', 'out', 'some', 'sort', 'of', 'favourism', 'in', 'the', 'team', '?', \"'\", \"'Do\", 'you', 'think', 'that', 'equally', 'learning', 'facilities', 'will', 'help', 'team', 'grow', 'together', 'and', 'conflict-free', '?', \"'\", \"'Do\", 'you', 'find', 'yourself', 'as', 'a', 'silent', 'member', 'who', 'never', 'really', 'talks', 'about', 'the', 'problems', '?', \"'\", \"'Does\", 'communication', 'helps', 'a', 'team', 'to', 'save', 'them', 'from', 'conflicts', '?', \"'\", \"'Does\", 'your', 'manager/team', 'member', 'do', 'respect', 'your', 'sentiments', 'and', 'emotions', '?', \"'\", \"'Do\", 'you', 'find', 'any', '\\\\x93pressure\\\\x94', 'from', 'your', 'team', 'lead', 'when', 'deadlines', 'are', 'just', 'near', '?', \"'\", \"'Does\", '\\\\x93team', 'size\\\\x94', 'affect', 'the', 'team', 'performance', '?', \"'\", \"'What\", 'if', 'you', 'find', 'yourself', 'in', 'an', 'argument', ',', 'you', 'usually', 'say', 'very', 'little', 'and', 'try', 'to', 'leave', 'as', 'soon', 'as', 'possible', '?', \"'\", \"'Do\", 'you', 'prefer', 'to', 'compromise', 'when', 'solving', 'problems', 'and', 'just', 'move', 'on', '?', \"'\", \"'If\", 'there', 'may', 'not', 'get', 'what', 'you', 'want', ',', 'but', 'do', 'you', 'think', 'that', 'it', 'is', 'a', 'small', 'price', 'to', 'pay', 'for', 'keeping', 'the', 'peace', '?', \"'\", \"'when\", 'you', 'are', 'the', 'person', 'with', 'the', 'greater', 'authority', 'in', 'a', 'conflict', 'situation', ',', 'you', 'would', 'avoid/', \"conflict'\", \"'When\", 'you', 'find', 'yourself', 'disagreeing', 'with', 'other', 'members', 'of', 'a', 'group', 'on', 'an\\\\nImportant', 'issue', ',', 'would', 'you', 'stand', 'by', 'your', 'convictions', 'and', 'defend', 'your', 'position', '?', '\\\\nWhen', 'you', 'find', 'yourself', 'disagreeing', 'with', 'other', 'members', 'of', 'a', 'group', 'on', 'an', 'important', 'issue', ',', 'would', 'you', 'stand', 'by', 'your', 'convictions', 'and', 'defend', 'your', \"position'\", \"'Do\", 'you', 'find', 'out', 'the', 'straight', 'solution', 'of', 'any', 'agreement', 'or', 'just', 'figure', 'out', 'every', 'possible', 'reason', 'which', 'is', 'creating', 'difference', '?', \"'\", \"'What\", 'if', 'working', 'with', 'a', 'senior', 'member', 'in', 'the', 'team', 'which', 'is', 'older', 'in', 'age', 'and', 'experience', ',', 'do', 'you', 'openly', 'express', 'your', 'opinions', 'or', 'will', 'you', 'keep', 'the', 'respect', 'factor', '?', \"'\", \"'X_input'\", \"'Do\", 'you', 'think', 'conflicts', 'really', 'exist', 'in', 'the', 'team', 'working', 'in', 'software', \"industry'\", \"'What\", 'impact', 'do', 'you', 'find', 'when', 'you', 'don\\\\x92t', 'have', 'good', 'relations', 'with', 'your', 'any', 'team', 'members', '?', \"'\", \"'What\", 'if', 'you', 'find', 'out', 'some', 'sort', 'of', 'favourism', 'in', 'the', 'team', '?', \"'\", \"'Do\", 'you', 'think', 'that', 'equally', 'learning', 'facilities', 'will', 'help', 'team', 'grow', 'together', 'and', 'conflict-free', '?', \"'\", \"'Do\", 'you', 'find', 'yourself', 'as', 'a', 'silent', 'member', 'who', 'never', 'really', 'talks', 'about', 'the', 'problems', '?', \"'\", \"'Does\", 'communication', 'helps', 'a', 'team', 'to', 'save', 'them', 'from', 'conflicts', '?', \"'\", \"'Does\", 'your', 'manager/team', 'member', 'do', 'respect', 'your', 'sentiments', 'and', 'emotions', '?', \"'\", \"'Do\", 'you', 'find', 'any', '\\\\x93pressure\\\\x94', 'from', 'your', 'team', 'lead', 'when', 'deadlines', 'are', 'just', 'near', '?', \"'\", \"'Does\", '\\\\x93team', 'size\\\\x94', 'affect', 'the', 'team', 'performance', '?', \"'\", \"'What\", 'if', 'you', 'find', 'yourself', 'in', 'an', 'argument', ',', 'you', 'usually', 'say', 'very', 'little', 'and', 'try', 'to', 'leave', 'as', 'soon', 'as', 'possible', '?', \"'\", \"'Do\", 'you', 'prefer', 'to', 'compromise', 'when', 'solving', 'problems', 'and', 'just', 'move', 'on', '?', \"'\", \"'If\", 'there', 'may', 'not', 'get', 'what', 'you', 'want', ',', 'but', 'do', 'you', 'think', 'that', 'it', 'is', 'a', 'small', 'price', 'to', 'pay', 'for', 'keeping', 'the', 'peace', '?', \"'\", \"'when\", 'you', 'are', 'the', 'person', 'with', 'the', 'greater', 'authority', 'in', 'a', 'conflict', 'situation', ',', 'you', 'would', 'avoid/', \"conflict'\", \"'When\", 'you', 'find', 'yourself', 'disagreeing', 'with', 'other', 'members', 'of', 'a', 'group', 'on', 'an\\\\nImportant', 'issue', ',', 'would', 'you', 'stand', 'by', 'your', 'convictions', 'and', 'defend', 'your', 'position', '?', '\\\\nWhen', 'you', 'find', 'yourself', 'disagreeing', 'with', 'other', 'members', 'of', 'a', 'group', 'on', 'an', 'important', 'issue', ',', 'would', 'you', 'stand', 'by', 'your', 'convictions', 'and', 'defend', 'your', \"position'\", \"'Do\", 'you', 'find', 'out', 'the', 'straight', 'solution', 'of', 'any', 'agreement', 'or', 'just', 'figure', 'out', 'every', 'possible', 'reason', 'which', 'is', 'creating', 'difference', '?', \"'\", \"'What\", 'if', 'working', 'with', 'a', 'senior', 'member', 'in', 'the', 'team', 'which', 'is', 'older', 'in', 'age', 'and', 'experience', ',', 'do', 'you', 'openly', 'express', 'your', 'opinions', 'or', 'will', 'you', 'keep', 'the', 'respect', 'factor', '?', \"'\", ']']\n"
     ]
    }
   ],
   "source": [
    "print(word_tokenize(str(data)))"
   ]
  },
  {
   "cell_type": "code",
   "execution_count": 23,
   "metadata": {},
   "outputs": [
    {
     "name": "stdout",
     "output_type": "stream",
     "text": [
      "x_input\n",
      "Do you think conflicts really exist in the team working in software industry\n",
      "What impact do you find when you dont have good relations with your any team members?\n",
      "What if you find out some sort of favourism in the team?\n",
      "Do you think that equally learning facilities will help team grow together and conflict-free?\n",
      "Do you find yourself as a silent member who never really talks about the problems?\n",
      "Does communication helps a team to save them from conflicts?\n",
      "Does your manager/team member do respect your sentiments and emotions?\n",
      "Do you find any pressure from your team lead when deadlines are just near? \n",
      "Does team size affect the team performance?\n",
      "What if you find yourself in an argument, you usually say very little and try to leave as soon as possible?\n",
      "Do you prefer to compromise when solving problems and just move on?\n",
      "If there may not get what you want, but do you think that it is a small price to pay for keeping the peace?\n",
      "when you are the person with the greater authority in a conflict situation, you would avoid/ conflict\n",
      "When you find yourself disagreeing with other members of a group on an\n",
      "Important issue, would you stand by your convictions and defend your position?\n",
      "When you find yourself disagreeing with other members of a group on an important issue , would you stand by your convictions and defend your position\n",
      "Do you find out the straight solution of any agreement or just figure out every possible reason which is creating difference?\n",
      "What if working with a senior member in the team which is older in age and experience, do you openly express your opinions or will you keep the respect factor?\n",
      "X_input\n",
      "Do you think conflicts really exist in the team working in software industry\n",
      "What impact do you find when you dont have good relations with your any team members?\n",
      "What if you find out some sort of favourism in the team?\n",
      "Do you think that equally learning facilities will help team grow together and conflict-free?\n",
      "Do you find yourself as a silent member who never really talks about the problems?\n",
      "Does communication helps a team to save them from conflicts?\n",
      "Does your manager/team member do respect your sentiments and emotions?\n",
      "Do you find any pressure from your team lead when deadlines are just near? \n",
      "Does team size affect the team performance?\n",
      "What if you find yourself in an argument, you usually say very little and try to leave as soon as possible?\n",
      "Do you prefer to compromise when solving problems and just move on?\n",
      "If there may not get what you want, but do you think that it is a small price to pay for keeping the peace?\n",
      "when you are the person with the greater authority in a conflict situation, you would avoid/ conflict\n",
      "When you find yourself disagreeing with other members of a group on an\n",
      "Important issue, would you stand by your convictions and defend your position?\n",
      "When you find yourself disagreeing with other members of a group on an important issue , would you stand by your convictions and defend your position\n",
      "Do you find out the straight solution of any agreement or just figure out every possible reason which is creating difference?\n",
      "What if working with a senior member in the team which is older in age and experience, do you openly express your opinions or will you keep the respect factor?\n"
     ]
    }
   ],
   "source": [
    "for i in data:\n",
    "    print(i)"
   ]
  },
  {
   "cell_type": "code",
   "execution_count": 24,
   "metadata": {},
   "outputs": [],
   "source": [
    "tokens = word_tokenize(str(data))"
   ]
  },
  {
   "cell_type": "code",
   "execution_count": 25,
   "metadata": {},
   "outputs": [
    {
     "data": {
      "text/plain": [
       "['[',\n",
       " \"'x_input'\",\n",
       " \"'Do\",\n",
       " 'you',\n",
       " 'think',\n",
       " 'conflicts',\n",
       " 'really',\n",
       " 'exist',\n",
       " 'in',\n",
       " 'the',\n",
       " 'team',\n",
       " 'working',\n",
       " 'in',\n",
       " 'software',\n",
       " \"industry'\",\n",
       " \"'What\",\n",
       " 'impact',\n",
       " 'do',\n",
       " 'you',\n",
       " 'find',\n",
       " 'when',\n",
       " 'you',\n",
       " 'don\\\\x92t',\n",
       " 'have',\n",
       " 'good',\n",
       " 'relations',\n",
       " 'with',\n",
       " 'your',\n",
       " 'any',\n",
       " 'team',\n",
       " 'members',\n",
       " '?',\n",
       " \"'\",\n",
       " \"'What\",\n",
       " 'if',\n",
       " 'you',\n",
       " 'find',\n",
       " 'out',\n",
       " 'some',\n",
       " 'sort',\n",
       " 'of',\n",
       " 'favourism',\n",
       " 'in',\n",
       " 'the',\n",
       " 'team',\n",
       " '?',\n",
       " \"'\",\n",
       " \"'Do\",\n",
       " 'you',\n",
       " 'think',\n",
       " 'that',\n",
       " 'equally',\n",
       " 'learning',\n",
       " 'facilities',\n",
       " 'will',\n",
       " 'help',\n",
       " 'team',\n",
       " 'grow',\n",
       " 'together',\n",
       " 'and',\n",
       " 'conflict-free',\n",
       " '?',\n",
       " \"'\",\n",
       " \"'Do\",\n",
       " 'you',\n",
       " 'find',\n",
       " 'yourself',\n",
       " 'as',\n",
       " 'a',\n",
       " 'silent',\n",
       " 'member',\n",
       " 'who',\n",
       " 'never',\n",
       " 'really',\n",
       " 'talks',\n",
       " 'about',\n",
       " 'the',\n",
       " 'problems',\n",
       " '?',\n",
       " \"'\",\n",
       " \"'Does\",\n",
       " 'communication',\n",
       " 'helps',\n",
       " 'a',\n",
       " 'team',\n",
       " 'to',\n",
       " 'save',\n",
       " 'them',\n",
       " 'from',\n",
       " 'conflicts',\n",
       " '?',\n",
       " \"'\",\n",
       " \"'Does\",\n",
       " 'your',\n",
       " 'manager/team',\n",
       " 'member',\n",
       " 'do',\n",
       " 'respect',\n",
       " 'your',\n",
       " 'sentiments',\n",
       " 'and',\n",
       " 'emotions',\n",
       " '?',\n",
       " \"'\",\n",
       " \"'Do\",\n",
       " 'you',\n",
       " 'find',\n",
       " 'any',\n",
       " '\\\\x93pressure\\\\x94',\n",
       " 'from',\n",
       " 'your',\n",
       " 'team',\n",
       " 'lead',\n",
       " 'when',\n",
       " 'deadlines',\n",
       " 'are',\n",
       " 'just',\n",
       " 'near',\n",
       " '?',\n",
       " \"'\",\n",
       " \"'Does\",\n",
       " '\\\\x93team',\n",
       " 'size\\\\x94',\n",
       " 'affect',\n",
       " 'the',\n",
       " 'team',\n",
       " 'performance',\n",
       " '?',\n",
       " \"'\",\n",
       " \"'What\",\n",
       " 'if',\n",
       " 'you',\n",
       " 'find',\n",
       " 'yourself',\n",
       " 'in',\n",
       " 'an',\n",
       " 'argument',\n",
       " ',',\n",
       " 'you',\n",
       " 'usually',\n",
       " 'say',\n",
       " 'very',\n",
       " 'little',\n",
       " 'and',\n",
       " 'try',\n",
       " 'to',\n",
       " 'leave',\n",
       " 'as',\n",
       " 'soon',\n",
       " 'as',\n",
       " 'possible',\n",
       " '?',\n",
       " \"'\",\n",
       " \"'Do\",\n",
       " 'you',\n",
       " 'prefer',\n",
       " 'to',\n",
       " 'compromise',\n",
       " 'when',\n",
       " 'solving',\n",
       " 'problems',\n",
       " 'and',\n",
       " 'just',\n",
       " 'move',\n",
       " 'on',\n",
       " '?',\n",
       " \"'\",\n",
       " \"'If\",\n",
       " 'there',\n",
       " 'may',\n",
       " 'not',\n",
       " 'get',\n",
       " 'what',\n",
       " 'you',\n",
       " 'want',\n",
       " ',',\n",
       " 'but',\n",
       " 'do',\n",
       " 'you',\n",
       " 'think',\n",
       " 'that',\n",
       " 'it',\n",
       " 'is',\n",
       " 'a',\n",
       " 'small',\n",
       " 'price',\n",
       " 'to',\n",
       " 'pay',\n",
       " 'for',\n",
       " 'keeping',\n",
       " 'the',\n",
       " 'peace',\n",
       " '?',\n",
       " \"'\",\n",
       " \"'when\",\n",
       " 'you',\n",
       " 'are',\n",
       " 'the',\n",
       " 'person',\n",
       " 'with',\n",
       " 'the',\n",
       " 'greater',\n",
       " 'authority',\n",
       " 'in',\n",
       " 'a',\n",
       " 'conflict',\n",
       " 'situation',\n",
       " ',',\n",
       " 'you',\n",
       " 'would',\n",
       " 'avoid/',\n",
       " \"conflict'\",\n",
       " \"'When\",\n",
       " 'you',\n",
       " 'find',\n",
       " 'yourself',\n",
       " 'disagreeing',\n",
       " 'with',\n",
       " 'other',\n",
       " 'members',\n",
       " 'of',\n",
       " 'a',\n",
       " 'group',\n",
       " 'on',\n",
       " 'an\\\\nImportant',\n",
       " 'issue',\n",
       " ',',\n",
       " 'would',\n",
       " 'you',\n",
       " 'stand',\n",
       " 'by',\n",
       " 'your',\n",
       " 'convictions',\n",
       " 'and',\n",
       " 'defend',\n",
       " 'your',\n",
       " 'position',\n",
       " '?',\n",
       " '\\\\nWhen',\n",
       " 'you',\n",
       " 'find',\n",
       " 'yourself',\n",
       " 'disagreeing',\n",
       " 'with',\n",
       " 'other',\n",
       " 'members',\n",
       " 'of',\n",
       " 'a',\n",
       " 'group',\n",
       " 'on',\n",
       " 'an',\n",
       " 'important',\n",
       " 'issue',\n",
       " ',',\n",
       " 'would',\n",
       " 'you',\n",
       " 'stand',\n",
       " 'by',\n",
       " 'your',\n",
       " 'convictions',\n",
       " 'and',\n",
       " 'defend',\n",
       " 'your',\n",
       " \"position'\",\n",
       " \"'Do\",\n",
       " 'you',\n",
       " 'find',\n",
       " 'out',\n",
       " 'the',\n",
       " 'straight',\n",
       " 'solution',\n",
       " 'of',\n",
       " 'any',\n",
       " 'agreement',\n",
       " 'or',\n",
       " 'just',\n",
       " 'figure',\n",
       " 'out',\n",
       " 'every',\n",
       " 'possible',\n",
       " 'reason',\n",
       " 'which',\n",
       " 'is',\n",
       " 'creating',\n",
       " 'difference',\n",
       " '?',\n",
       " \"'\",\n",
       " \"'What\",\n",
       " 'if',\n",
       " 'working',\n",
       " 'with',\n",
       " 'a',\n",
       " 'senior',\n",
       " 'member',\n",
       " 'in',\n",
       " 'the',\n",
       " 'team',\n",
       " 'which',\n",
       " 'is',\n",
       " 'older',\n",
       " 'in',\n",
       " 'age',\n",
       " 'and',\n",
       " 'experience',\n",
       " ',',\n",
       " 'do',\n",
       " 'you',\n",
       " 'openly',\n",
       " 'express',\n",
       " 'your',\n",
       " 'opinions',\n",
       " 'or',\n",
       " 'will',\n",
       " 'you',\n",
       " 'keep',\n",
       " 'the',\n",
       " 'respect',\n",
       " 'factor',\n",
       " '?',\n",
       " \"'\",\n",
       " \"'X_input'\",\n",
       " \"'Do\",\n",
       " 'you',\n",
       " 'think',\n",
       " 'conflicts',\n",
       " 'really',\n",
       " 'exist',\n",
       " 'in',\n",
       " 'the',\n",
       " 'team',\n",
       " 'working',\n",
       " 'in',\n",
       " 'software',\n",
       " \"industry'\",\n",
       " \"'What\",\n",
       " 'impact',\n",
       " 'do',\n",
       " 'you',\n",
       " 'find',\n",
       " 'when',\n",
       " 'you',\n",
       " 'don\\\\x92t',\n",
       " 'have',\n",
       " 'good',\n",
       " 'relations',\n",
       " 'with',\n",
       " 'your',\n",
       " 'any',\n",
       " 'team',\n",
       " 'members',\n",
       " '?',\n",
       " \"'\",\n",
       " \"'What\",\n",
       " 'if',\n",
       " 'you',\n",
       " 'find',\n",
       " 'out',\n",
       " 'some',\n",
       " 'sort',\n",
       " 'of',\n",
       " 'favourism',\n",
       " 'in',\n",
       " 'the',\n",
       " 'team',\n",
       " '?',\n",
       " \"'\",\n",
       " \"'Do\",\n",
       " 'you',\n",
       " 'think',\n",
       " 'that',\n",
       " 'equally',\n",
       " 'learning',\n",
       " 'facilities',\n",
       " 'will',\n",
       " 'help',\n",
       " 'team',\n",
       " 'grow',\n",
       " 'together',\n",
       " 'and',\n",
       " 'conflict-free',\n",
       " '?',\n",
       " \"'\",\n",
       " \"'Do\",\n",
       " 'you',\n",
       " 'find',\n",
       " 'yourself',\n",
       " 'as',\n",
       " 'a',\n",
       " 'silent',\n",
       " 'member',\n",
       " 'who',\n",
       " 'never',\n",
       " 'really',\n",
       " 'talks',\n",
       " 'about',\n",
       " 'the',\n",
       " 'problems',\n",
       " '?',\n",
       " \"'\",\n",
       " \"'Does\",\n",
       " 'communication',\n",
       " 'helps',\n",
       " 'a',\n",
       " 'team',\n",
       " 'to',\n",
       " 'save',\n",
       " 'them',\n",
       " 'from',\n",
       " 'conflicts',\n",
       " '?',\n",
       " \"'\",\n",
       " \"'Does\",\n",
       " 'your',\n",
       " 'manager/team',\n",
       " 'member',\n",
       " 'do',\n",
       " 'respect',\n",
       " 'your',\n",
       " 'sentiments',\n",
       " 'and',\n",
       " 'emotions',\n",
       " '?',\n",
       " \"'\",\n",
       " \"'Do\",\n",
       " 'you',\n",
       " 'find',\n",
       " 'any',\n",
       " '\\\\x93pressure\\\\x94',\n",
       " 'from',\n",
       " 'your',\n",
       " 'team',\n",
       " 'lead',\n",
       " 'when',\n",
       " 'deadlines',\n",
       " 'are',\n",
       " 'just',\n",
       " 'near',\n",
       " '?',\n",
       " \"'\",\n",
       " \"'Does\",\n",
       " '\\\\x93team',\n",
       " 'size\\\\x94',\n",
       " 'affect',\n",
       " 'the',\n",
       " 'team',\n",
       " 'performance',\n",
       " '?',\n",
       " \"'\",\n",
       " \"'What\",\n",
       " 'if',\n",
       " 'you',\n",
       " 'find',\n",
       " 'yourself',\n",
       " 'in',\n",
       " 'an',\n",
       " 'argument',\n",
       " ',',\n",
       " 'you',\n",
       " 'usually',\n",
       " 'say',\n",
       " 'very',\n",
       " 'little',\n",
       " 'and',\n",
       " 'try',\n",
       " 'to',\n",
       " 'leave',\n",
       " 'as',\n",
       " 'soon',\n",
       " 'as',\n",
       " 'possible',\n",
       " '?',\n",
       " \"'\",\n",
       " \"'Do\",\n",
       " 'you',\n",
       " 'prefer',\n",
       " 'to',\n",
       " 'compromise',\n",
       " 'when',\n",
       " 'solving',\n",
       " 'problems',\n",
       " 'and',\n",
       " 'just',\n",
       " 'move',\n",
       " 'on',\n",
       " '?',\n",
       " \"'\",\n",
       " \"'If\",\n",
       " 'there',\n",
       " 'may',\n",
       " 'not',\n",
       " 'get',\n",
       " 'what',\n",
       " 'you',\n",
       " 'want',\n",
       " ',',\n",
       " 'but',\n",
       " 'do',\n",
       " 'you',\n",
       " 'think',\n",
       " 'that',\n",
       " 'it',\n",
       " 'is',\n",
       " 'a',\n",
       " 'small',\n",
       " 'price',\n",
       " 'to',\n",
       " 'pay',\n",
       " 'for',\n",
       " 'keeping',\n",
       " 'the',\n",
       " 'peace',\n",
       " '?',\n",
       " \"'\",\n",
       " \"'when\",\n",
       " 'you',\n",
       " 'are',\n",
       " 'the',\n",
       " 'person',\n",
       " 'with',\n",
       " 'the',\n",
       " 'greater',\n",
       " 'authority',\n",
       " 'in',\n",
       " 'a',\n",
       " 'conflict',\n",
       " 'situation',\n",
       " ',',\n",
       " 'you',\n",
       " 'would',\n",
       " 'avoid/',\n",
       " \"conflict'\",\n",
       " \"'When\",\n",
       " 'you',\n",
       " 'find',\n",
       " 'yourself',\n",
       " 'disagreeing',\n",
       " 'with',\n",
       " 'other',\n",
       " 'members',\n",
       " 'of',\n",
       " 'a',\n",
       " 'group',\n",
       " 'on',\n",
       " 'an\\\\nImportant',\n",
       " 'issue',\n",
       " ',',\n",
       " 'would',\n",
       " 'you',\n",
       " 'stand',\n",
       " 'by',\n",
       " 'your',\n",
       " 'convictions',\n",
       " 'and',\n",
       " 'defend',\n",
       " 'your',\n",
       " 'position',\n",
       " '?',\n",
       " '\\\\nWhen',\n",
       " 'you',\n",
       " 'find',\n",
       " 'yourself',\n",
       " 'disagreeing',\n",
       " 'with',\n",
       " 'other',\n",
       " 'members',\n",
       " 'of',\n",
       " 'a',\n",
       " 'group',\n",
       " 'on',\n",
       " 'an',\n",
       " 'important',\n",
       " 'issue',\n",
       " ',',\n",
       " 'would',\n",
       " 'you',\n",
       " 'stand',\n",
       " 'by',\n",
       " 'your',\n",
       " 'convictions',\n",
       " 'and',\n",
       " 'defend',\n",
       " 'your',\n",
       " \"position'\",\n",
       " \"'Do\",\n",
       " 'you',\n",
       " 'find',\n",
       " 'out',\n",
       " 'the',\n",
       " 'straight',\n",
       " 'solution',\n",
       " 'of',\n",
       " 'any',\n",
       " 'agreement',\n",
       " 'or',\n",
       " 'just',\n",
       " 'figure',\n",
       " 'out',\n",
       " 'every',\n",
       " 'possible',\n",
       " 'reason',\n",
       " 'which',\n",
       " 'is',\n",
       " 'creating',\n",
       " 'difference',\n",
       " '?',\n",
       " \"'\",\n",
       " \"'What\",\n",
       " 'if',\n",
       " 'working',\n",
       " 'with',\n",
       " 'a',\n",
       " 'senior',\n",
       " 'member',\n",
       " 'in',\n",
       " 'the',\n",
       " 'team',\n",
       " 'which',\n",
       " 'is',\n",
       " 'older',\n",
       " 'in',\n",
       " 'age',\n",
       " 'and',\n",
       " 'experience',\n",
       " ',',\n",
       " 'do',\n",
       " 'you',\n",
       " 'openly',\n",
       " 'express',\n",
       " 'your',\n",
       " 'opinions',\n",
       " 'or',\n",
       " 'will',\n",
       " 'you',\n",
       " 'keep',\n",
       " 'the',\n",
       " 'respect',\n",
       " 'factor',\n",
       " '?',\n",
       " \"'\",\n",
       " ']']"
      ]
     },
     "execution_count": 25,
     "metadata": {},
     "output_type": "execute_result"
    }
   ],
   "source": [
    "tokens"
   ]
  },
  {
   "cell_type": "code",
   "execution_count": 26,
   "metadata": {},
   "outputs": [],
   "source": [
    "from nltk.tokenize.treebank import TreebankWordDetokenizer\n",
    "from nltk.stem import PorterStemmer \n",
    "Final_sentence = []\n",
    "tk = []\n",
    "PS = PorterStemmer()\n",
    "for sent in data: #getting one sentence at a time\n",
    "    tk = [] #to put the stemmed sentence\n",
    "    tokens = word_tokenize(sent) #tokenizing a single sentence\n",
    "    for word in tokens: #getting words from that tokens\n",
    "        stemmed = PS.stem(word) #stemming word by word\n",
    "        tk.append(stemmed) #putting that stemmed word into a list, to create the whole stemmed sentence\n",
    "    \n",
    "    y = TreebankWordDetokenizer().detokenize(tk) #detokenize the whole list, to create a single proper sentence\n",
    "    \n",
    "    Final_sentence.append(y)"
   ]
  },
  {
   "cell_type": "code",
   "execution_count": 27,
   "metadata": {},
   "outputs": [
    {
     "data": {
      "text/plain": [
       "['x_input',\n",
       " 'Do you think conflict realli exist in the team work in softwar industri',\n",
       " 'what impact do you find when you don\\x92t have good relat with your ani team member?',\n",
       " 'what if you find out some sort of favour in the team?',\n",
       " 'Do you think that equal learn facil will help team grow togeth and conflict-fre?',\n",
       " 'Do you find yourself as a silent member who never realli talk about the problem?',\n",
       " 'doe commun help a team to save them from conflict?',\n",
       " 'doe your manager/team member do respect your sentiment and emot?',\n",
       " 'Do you find ani \\x93pressure\\x94 from your team lead when deadlin are just near?',\n",
       " 'doe \\x93team size\\x94 affect the team perform?',\n",
       " 'what if you find yourself in an argument, you usual say veri littl and tri to leav as soon as possibl?',\n",
       " 'Do you prefer to compromis when solv problem and just move on?',\n",
       " 'If there may not get what you want, but do you think that it is a small price to pay for keep the peac?',\n",
       " 'when you are the person with the greater author in a conflict situat, you would avoid/ conflict',\n",
       " 'when you find yourself disagre with other member of a group on an import issu, would you stand by your convict and defend your posit? when you find yourself disagre with other member of a group on an import issu, would you stand by your convict and defend your posit',\n",
       " 'Do you find out the straight solut of ani agreement or just figur out everi possibl reason which is creat differ?',\n",
       " 'what if work with a senior member in the team which is older in age and experi, do you openli express your opinion or will you keep the respect factor?',\n",
       " 'x_input',\n",
       " 'Do you think conflict realli exist in the team work in softwar industri',\n",
       " 'what impact do you find when you don\\x92t have good relat with your ani team member?',\n",
       " 'what if you find out some sort of favour in the team?',\n",
       " 'Do you think that equal learn facil will help team grow togeth and conflict-fre?',\n",
       " 'Do you find yourself as a silent member who never realli talk about the problem?',\n",
       " 'doe commun help a team to save them from conflict?',\n",
       " 'doe your manager/team member do respect your sentiment and emot?',\n",
       " 'Do you find ani \\x93pressure\\x94 from your team lead when deadlin are just near?',\n",
       " 'doe \\x93team size\\x94 affect the team perform?',\n",
       " 'what if you find yourself in an argument, you usual say veri littl and tri to leav as soon as possibl?',\n",
       " 'Do you prefer to compromis when solv problem and just move on?',\n",
       " 'If there may not get what you want, but do you think that it is a small price to pay for keep the peac?',\n",
       " 'when you are the person with the greater author in a conflict situat, you would avoid/ conflict',\n",
       " 'when you find yourself disagre with other member of a group on an import issu, would you stand by your convict and defend your posit? when you find yourself disagre with other member of a group on an import issu, would you stand by your convict and defend your posit',\n",
       " 'Do you find out the straight solut of ani agreement or just figur out everi possibl reason which is creat differ?',\n",
       " 'what if work with a senior member in the team which is older in age and experi, do you openli express your opinion or will you keep the respect factor?']"
      ]
     },
     "execution_count": 27,
     "metadata": {},
     "output_type": "execute_result"
    }
   ],
   "source": [
    "Final_sentence"
   ]
  },
  {
   "cell_type": "markdown",
   "metadata": {},
   "source": [
    "# Stop Words"
   ]
  },
  {
   "cell_type": "code",
   "execution_count": 28,
   "metadata": {},
   "outputs": [],
   "source": [
    "from nltk.corpus import stopwords"
   ]
  },
  {
   "cell_type": "code",
   "execution_count": 29,
   "metadata": {},
   "outputs": [],
   "source": [
    "stop_words = set(stopwords.words(\"english\"))"
   ]
  },
  {
   "cell_type": "code",
   "execution_count": 30,
   "metadata": {},
   "outputs": [
    {
     "name": "stdout",
     "output_type": "stream",
     "text": [
      "{'further', \"you'd\", 'his', 'wasn', 't', 'him', 'who', 'own', 'y', 'but', 'most', \"shouldn't\", 'about', 'mightn', 'yours', 'o', 'be', 'these', 'there', 'other', 'before', 'only', 'herself', 'your', 'same', 'than', 'am', 'the', 'didn', 'weren', \"should've\", 'after', 'how', \"weren't\", 'don', 'where', 've', 'off', 'yourself', 'until', 'he', 'yourselves', \"that'll\", 'ain', \"shan't\", 'which', 'theirs', 'its', 'been', 'no', 'my', 'while', 'you', 'and', 'down', 'them', 'itself', 'up', 'their', 'at', 'll', 'can', 'some', 'under', 'both', 'just', \"you've\", 'himself', 'have', 'an', 'whom', 'ourselves', \"it's\", 'themselves', 'did', 'haven', 'nor', 'through', 'all', 'very', \"haven't\", 'had', 'd', 'as', 'to', 'out', \"won't\", 'doesn', 'couldn', 'such', 'any', \"doesn't\", 'what', 'having', 'were', 'once', \"aren't\", 'here', 'in', \"mustn't\", 'not', 'why', 'hasn', 'that', 'by', 'against', 'we', 'she', 'now', 'me', 'doing', 'ma', 'few', \"mightn't\", 'it', 'during', 'shouldn', 'above', 'aren', \"wouldn't\", 'each', \"hadn't\", 'i', 'on', 'should', 'our', \"couldn't\", 'isn', 'a', 'so', 'does', 'needn', \"she's\", 'because', 'from', 'then', 'more', \"you're\", 'has', \"hasn't\", 'hadn', 'm', 'with', 'do', 'was', 'too', 'her', 'shan', 's', 'between', 'will', 'myself', 'ours', 'or', \"isn't\", 'is', 'mustn', \"didn't\", \"you'll\", 'wouldn', 'into', 'when', \"needn't\", 'are', 'being', 'over', 'this', 'won', 'they', 'of', 'for', 'again', \"don't\", 'if', 'below', 'hers', 'those', \"wasn't\", 're'}\n"
     ]
    }
   ],
   "source": [
    "print(stop_words)"
   ]
  },
  {
   "cell_type": "code",
   "execution_count": 31,
   "metadata": {},
   "outputs": [
    {
     "name": "stdout",
     "output_type": "stream",
     "text": [
      "Total Stop words in english are ====> 179\n"
     ]
    }
   ],
   "source": [
    "lens = len(stop_words)\n",
    "print(\"Total Stop words in english are ====> {}\".format(lens))"
   ]
  },
  {
   "cell_type": "code",
   "execution_count": 32,
   "metadata": {},
   "outputs": [],
   "source": [
    "filtered_sentence = []\n",
    "Total_final_sentence = []\n",
    "for sent in Final_sentence:\n",
    "    words_tokens= word_tokenize(sent)\n",
    "    filtered_sentence = [word for word in words_tokens if word not in stop_words] \n",
    "    z = TreebankWordDetokenizer().detokenize(filtered_sentence)\n",
    "    Total_final_sentence.append(z)"
   ]
  },
  {
   "cell_type": "code",
   "execution_count": 33,
   "metadata": {},
   "outputs": [
    {
     "data": {
      "text/plain": [
       "['x_input',\n",
       " 'Do think conflict realli exist team work softwar industri',\n",
       " 'impact find don\\x92t good relat ani team member?',\n",
       " 'find sort favour team?',\n",
       " 'Do think equal learn facil help team grow togeth conflict-fre?',\n",
       " 'Do find silent member never realli talk problem?',\n",
       " 'doe commun help team save conflict?',\n",
       " 'doe manager/team member respect sentiment emot?',\n",
       " 'Do find ani \\x93pressure\\x94 team lead deadlin near?',\n",
       " 'doe \\x93team size\\x94 affect team perform?',\n",
       " 'find argument, usual say veri littl tri leav soon possibl?',\n",
       " 'Do prefer compromis solv problem move?',\n",
       " 'If may get want, think small price pay keep peac?',\n",
       " 'person greater author conflict situat, would avoid/ conflict',\n",
       " 'find disagre member group import issu, would stand convict defend posit? find disagre member group import issu, would stand convict defend posit',\n",
       " 'Do find straight solut ani agreement figur everi possibl reason creat differ?',\n",
       " 'work senior member team older age experi, openli express opinion keep respect factor?',\n",
       " 'x_input',\n",
       " 'Do think conflict realli exist team work softwar industri',\n",
       " 'impact find don\\x92t good relat ani team member?',\n",
       " 'find sort favour team?',\n",
       " 'Do think equal learn facil help team grow togeth conflict-fre?',\n",
       " 'Do find silent member never realli talk problem?',\n",
       " 'doe commun help team save conflict?',\n",
       " 'doe manager/team member respect sentiment emot?',\n",
       " 'Do find ani \\x93pressure\\x94 team lead deadlin near?',\n",
       " 'doe \\x93team size\\x94 affect team perform?',\n",
       " 'find argument, usual say veri littl tri leav soon possibl?',\n",
       " 'Do prefer compromis solv problem move?',\n",
       " 'If may get want, think small price pay keep peac?',\n",
       " 'person greater author conflict situat, would avoid/ conflict',\n",
       " 'find disagre member group import issu, would stand convict defend posit? find disagre member group import issu, would stand convict defend posit',\n",
       " 'Do find straight solut ani agreement figur everi possibl reason creat differ?',\n",
       " 'work senior member team older age experi, openli express opinion keep respect factor?']"
      ]
     },
     "execution_count": 33,
     "metadata": {},
     "output_type": "execute_result"
    }
   ],
   "source": [
    "Total_final_sentence"
   ]
  },
  {
   "cell_type": "code",
   "execution_count": 34,
   "metadata": {},
   "outputs": [
    {
     "name": "stdout",
     "output_type": "stream",
     "text": [
      "{'further', \"you'd\", 'his', 'wasn', 't', 'him', 'who', 'own', 'y', 'but', 'most', \"shouldn't\", 'about', 'mightn', 'yours', 'o', 'be', 'these', 'there', 'other', 'before', 'only', 'herself', 'your', 'same', 'than', 'am', 'the', 'didn', 'weren', \"should've\", 'after', 'how', \"weren't\", 'don', 'where', 've', 'off', 'yourself', 'until', 'he', 'yourselves', \"that'll\", 'ain', \"shan't\", 'which', 'theirs', 'its', 'been', 'no', 'my', 'while', 'you', 'and', 'down', 'them', 'itself', 'up', 'their', 'at', 'll', 'can', 'some', 'under', 'both', 'just', \"you've\", 'himself', 'have', 'an', 'whom', 'ourselves', \"it's\", 'themselves', 'did', 'haven', 'nor', 'through', 'all', 'very', \"haven't\", 'had', 'd', 'as', 'to', 'out', \"won't\", 'doesn', 'couldn', 'such', 'any', \"doesn't\", 'what', 'having', 'were', 'once', \"aren't\", 'here', 'in', \"mustn't\", 'not', 'why', 'hasn', 'that', 'by', 'against', 'we', 'she', 'now', 'me', 'doing', 'ma', 'few', \"mightn't\", 'it', 'during', 'shouldn', 'above', 'aren', \"wouldn't\", 'each', \"hadn't\", 'i', 'on', 'should', 'our', \"couldn't\", 'isn', 'a', 'so', 'does', 'needn', \"she's\", 'because', 'from', 'then', 'more', \"you're\", 'has', \"hasn't\", 'hadn', 'm', 'with', 'do', 'was', 'too', 'her', 'shan', 's', 'between', 'will', 'myself', 'ours', 'or', \"isn't\", 'is', 'mustn', \"didn't\", \"you'll\", 'wouldn', 'into', 'when', \"needn't\", 'are', 'being', 'over', 'this', 'won', 'they', 'of', 'for', 'again', \"don't\", 'if', 'below', 'hers', 'those', \"wasn't\", 're'}\n"
     ]
    }
   ],
   "source": [
    "print(stop_words)"
   ]
  },
  {
   "cell_type": "markdown",
   "metadata": {},
   "source": [
    "# Tokenize and Padding"
   ]
  },
  {
   "cell_type": "code",
   "execution_count": 35,
   "metadata": {},
   "outputs": [],
   "source": [
    "from keras.preprocessing.text import Tokenizer\n",
    "from keras.preprocessing.sequence import pad_sequences\n",
    "import numpy as np"
   ]
  },
  {
   "cell_type": "code",
   "execution_count": 36,
   "metadata": {},
   "outputs": [],
   "source": [
    "max_words = 10000"
   ]
  },
  {
   "cell_type": "code",
   "execution_count": 37,
   "metadata": {},
   "outputs": [],
   "source": [
    "tokenizer = Tokenizer(num_words=max_words)\n",
    "tokenizer.fit_on_texts(Total_final_sentence)\n",
    "sequences = tokenizer.texts_to_sequences(Total_final_sentence)"
   ]
  },
  {
   "cell_type": "code",
   "execution_count": 38,
   "metadata": {},
   "outputs": [
    {
     "name": "stdout",
     "output_type": "stream",
     "text": [
      "Found 98 unique tokens.\n"
     ]
    }
   ],
   "source": [
    "word_index = tokenizer.word_index\n",
    "print('Found %s unique tokens.' % len(word_index))\n"
   ]
  },
  {
   "cell_type": "code",
   "execution_count": 39,
   "metadata": {},
   "outputs": [],
   "source": [
    "maxlen = 100\n",
    "padding = pad_sequences(sequences, maxlen=maxlen)"
   ]
  },
  {
   "cell_type": "code",
   "execution_count": 40,
   "metadata": {},
   "outputs": [
    {
     "data": {
      "text/plain": [
       "(34,)"
      ]
     },
     "execution_count": 40,
     "metadata": {},
     "output_type": "execute_result"
    }
   ],
   "source": [
    "data.shape"
   ]
  },
  {
   "cell_type": "code",
   "execution_count": 41,
   "metadata": {},
   "outputs": [
    {
     "name": "stdout",
     "output_type": "stream",
     "text": [
      "['x_input'\n",
      " 'Do you think conflicts really exist in the team working in software industry'\n",
      " 'What impact do you find when you don\\x92t have good relations with your any team members?'\n",
      " 'What if you find out some sort of favourism in the team?'\n",
      " 'Do you think that equally learning facilities will help team grow together and conflict-free?'\n",
      " 'Do you find yourself as a silent member who never really talks about the problems?'\n",
      " 'Does communication helps a team to save them from conflicts?'\n",
      " 'Does your manager/team member do respect your sentiments and emotions?'\n",
      " 'Do you find any \\x93pressure\\x94 from your team lead when deadlines are just near? '\n",
      " 'Does \\x93team size\\x94 affect the team performance?'\n",
      " 'What if you find yourself in an argument, you usually say very little and try to leave as soon as possible?'\n",
      " 'Do you prefer to compromise when solving problems and just move on?'\n",
      " 'If there may not get what you want, but do you think that it is a small price to pay for keeping the peace?'\n",
      " 'when you are the person with the greater authority in a conflict situation, you would avoid/ conflict'\n",
      " 'When you find yourself disagreeing with other members of a group on an\\nImportant issue, would you stand by your convictions and defend your position?\\nWhen you find yourself disagreeing with other members of a group on an important issue , would you stand by your convictions and defend your position'\n",
      " 'Do you find out the straight solution of any agreement or just figure out every possible reason which is creating difference?'\n",
      " 'What if working with a senior member in the team which is older in age and experience, do you openly express your opinions or will you keep the respect factor?'\n",
      " 'X_input'\n",
      " 'Do you think conflicts really exist in the team working in software industry'\n",
      " 'What impact do you find when you don\\x92t have good relations with your any team members?'\n",
      " 'What if you find out some sort of favourism in the team?'\n",
      " 'Do you think that equally learning facilities will help team grow together and conflict-free?'\n",
      " 'Do you find yourself as a silent member who never really talks about the problems?'\n",
      " 'Does communication helps a team to save them from conflicts?'\n",
      " 'Does your manager/team member do respect your sentiments and emotions?'\n",
      " 'Do you find any \\x93pressure\\x94 from your team lead when deadlines are just near? '\n",
      " 'Does \\x93team size\\x94 affect the team performance?'\n",
      " 'What if you find yourself in an argument, you usually say very little and try to leave as soon as possible?'\n",
      " 'Do you prefer to compromise when solving problems and just move on?'\n",
      " 'If there may not get what you want, but do you think that it is a small price to pay for keeping the peace?'\n",
      " 'when you are the person with the greater authority in a conflict situation, you would avoid/ conflict'\n",
      " 'When you find yourself disagreeing with other members of a group on an\\nImportant issue, would you stand by your convictions and defend your position?\\nWhen you find yourself disagreeing with other members of a group on an important issue , would you stand by your convictions and defend your position'\n",
      " 'Do you find out the straight solution of any agreement or just figure out every possible reason which is creating difference?'\n",
      " 'What if working with a senior member in the team which is older in age and experience, do you openly express your opinions or will you keep the respect factor?']\n"
     ]
    }
   ],
   "source": [
    "print(data)"
   ]
  },
  {
   "cell_type": "markdown",
   "metadata": {},
   "source": [
    "# Training and Testing"
   ]
  },
  {
   "cell_type": "code",
   "execution_count": 46,
   "metadata": {},
   "outputs": [],
   "source": [
    "from sklearn.model_selection import train_test_split\n",
    "X_train, X_test, y_train, y_test = train_test_split(data,Y)\n"
   ]
  },
  {
   "cell_type": "code",
   "execution_count": 47,
   "metadata": {},
   "outputs": [
    {
     "data": {
      "text/plain": [
       "array(['x_input',\n",
       "       'Do you think conflicts really exist in the team working in software industry',\n",
       "       'What impact do you find when you don\\x92t have good relations with your any team members?',\n",
       "       'What if you find out some sort of favourism in the team?',\n",
       "       'Do you think that equally learning facilities will help team grow together and conflict-free?',\n",
       "       'Do you find yourself as a silent member who never really talks about the problems?',\n",
       "       'Does communication helps a team to save them from conflicts?',\n",
       "       'Does your manager/team member do respect your sentiments and emotions?',\n",
       "       'Do you find any \\x93pressure\\x94 from your team lead when deadlines are just near? ',\n",
       "       'Does \\x93team size\\x94 affect the team performance?',\n",
       "       'What if you find yourself in an argument, you usually say very little and try to leave as soon as possible?',\n",
       "       'Do you prefer to compromise when solving problems and just move on?',\n",
       "       'If there may not get what you want, but do you think that it is a small price to pay for keeping the peace?',\n",
       "       'when you are the person with the greater authority in a conflict situation, you would avoid/ conflict',\n",
       "       'When you find yourself disagreeing with other members of a group on an\\nImportant issue, would you stand by your convictions and defend your position?\\nWhen you find yourself disagreeing with other members of a group on an important issue , would you stand by your convictions and defend your position',\n",
       "       'Do you find out the straight solution of any agreement or just figure out every possible reason which is creating difference?',\n",
       "       'What if working with a senior member in the team which is older in age and experience, do you openly express your opinions or will you keep the respect factor?',\n",
       "       'X_input',\n",
       "       'Do you think conflicts really exist in the team working in software industry',\n",
       "       'What impact do you find when you don\\x92t have good relations with your any team members?',\n",
       "       'What if you find out some sort of favourism in the team?',\n",
       "       'Do you think that equally learning facilities will help team grow together and conflict-free?',\n",
       "       'Do you find yourself as a silent member who never really talks about the problems?',\n",
       "       'Does communication helps a team to save them from conflicts?',\n",
       "       'Does your manager/team member do respect your sentiments and emotions?',\n",
       "       'Do you find any \\x93pressure\\x94 from your team lead when deadlines are just near? ',\n",
       "       'Does \\x93team size\\x94 affect the team performance?',\n",
       "       'What if you find yourself in an argument, you usually say very little and try to leave as soon as possible?',\n",
       "       'Do you prefer to compromise when solving problems and just move on?',\n",
       "       'If there may not get what you want, but do you think that it is a small price to pay for keeping the peace?',\n",
       "       'when you are the person with the greater authority in a conflict situation, you would avoid/ conflict',\n",
       "       'When you find yourself disagreeing with other members of a group on an\\nImportant issue, would you stand by your convictions and defend your position?\\nWhen you find yourself disagreeing with other members of a group on an important issue , would you stand by your convictions and defend your position',\n",
       "       'Do you find out the straight solution of any agreement or just figure out every possible reason which is creating difference?',\n",
       "       'What if working with a senior member in the team which is older in age and experience, do you openly express your opinions or will you keep the respect factor?'],\n",
       "      dtype=object)"
      ]
     },
     "execution_count": 47,
     "metadata": {},
     "output_type": "execute_result"
    }
   ],
   "source": [
    "data"
   ]
  },
  {
   "cell_type": "code",
   "execution_count": 48,
   "metadata": {},
   "outputs": [
    {
     "ename": "ValueError",
     "evalue": "could not convert string to float: 'x_input'",
     "output_type": "error",
     "traceback": [
      "\u001b[1;31m---------------------------------------------------------------------------\u001b[0m",
      "\u001b[1;31mValueError\u001b[0m                                Traceback (most recent call last)",
      "\u001b[1;32m<ipython-input-48-c1c556163fd4>\u001b[0m in \u001b[0;36m<module>\u001b[1;34m\u001b[0m\n\u001b[0;32m      1\u001b[0m \u001b[1;32mfrom\u001b[0m \u001b[0msklearn\u001b[0m\u001b[1;33m.\u001b[0m\u001b[0msvm\u001b[0m \u001b[1;32mimport\u001b[0m \u001b[0mSVC\u001b[0m\u001b[1;33m\u001b[0m\u001b[1;33m\u001b[0m\u001b[0m\n\u001b[0;32m      2\u001b[0m \u001b[0msvclassifier\u001b[0m \u001b[1;33m=\u001b[0m \u001b[0mSVC\u001b[0m\u001b[1;33m(\u001b[0m\u001b[0mkernel\u001b[0m\u001b[1;33m=\u001b[0m\u001b[1;34m'linear'\u001b[0m\u001b[1;33m)\u001b[0m\u001b[1;33m\u001b[0m\u001b[1;33m\u001b[0m\u001b[0m\n\u001b[1;32m----> 3\u001b[1;33m \u001b[0msvclassifier\u001b[0m\u001b[1;33m.\u001b[0m\u001b[0mfit\u001b[0m\u001b[1;33m(\u001b[0m\u001b[0mX_train\u001b[0m\u001b[1;33m,\u001b[0m \u001b[0my_train\u001b[0m\u001b[1;33m)\u001b[0m\u001b[1;33m\u001b[0m\u001b[1;33m\u001b[0m\u001b[0m\n\u001b[0m",
      "\u001b[1;32m~\\AppData\\Local\\Continuum\\anaconda3\\lib\\site-packages\\sklearn\\svm\\base.py\u001b[0m in \u001b[0;36mfit\u001b[1;34m(self, X, y, sample_weight)\u001b[0m\n\u001b[0;32m    147\u001b[0m         X, y = check_X_y(X, y, dtype=np.float64,\n\u001b[0;32m    148\u001b[0m                          \u001b[0morder\u001b[0m\u001b[1;33m=\u001b[0m\u001b[1;34m'C'\u001b[0m\u001b[1;33m,\u001b[0m \u001b[0maccept_sparse\u001b[0m\u001b[1;33m=\u001b[0m\u001b[1;34m'csr'\u001b[0m\u001b[1;33m,\u001b[0m\u001b[1;33m\u001b[0m\u001b[1;33m\u001b[0m\u001b[0m\n\u001b[1;32m--> 149\u001b[1;33m                          accept_large_sparse=False)\n\u001b[0m\u001b[0;32m    150\u001b[0m         \u001b[0my\u001b[0m \u001b[1;33m=\u001b[0m \u001b[0mself\u001b[0m\u001b[1;33m.\u001b[0m\u001b[0m_validate_targets\u001b[0m\u001b[1;33m(\u001b[0m\u001b[0my\u001b[0m\u001b[1;33m)\u001b[0m\u001b[1;33m\u001b[0m\u001b[1;33m\u001b[0m\u001b[0m\n\u001b[0;32m    151\u001b[0m \u001b[1;33m\u001b[0m\u001b[0m\n",
      "\u001b[1;32m~\\AppData\\Local\\Continuum\\anaconda3\\lib\\site-packages\\sklearn\\utils\\validation.py\u001b[0m in \u001b[0;36mcheck_X_y\u001b[1;34m(X, y, accept_sparse, accept_large_sparse, dtype, order, copy, force_all_finite, ensure_2d, allow_nd, multi_output, ensure_min_samples, ensure_min_features, y_numeric, warn_on_dtype, estimator)\u001b[0m\n\u001b[0;32m    754\u001b[0m                     \u001b[0mensure_min_features\u001b[0m\u001b[1;33m=\u001b[0m\u001b[0mensure_min_features\u001b[0m\u001b[1;33m,\u001b[0m\u001b[1;33m\u001b[0m\u001b[1;33m\u001b[0m\u001b[0m\n\u001b[0;32m    755\u001b[0m                     \u001b[0mwarn_on_dtype\u001b[0m\u001b[1;33m=\u001b[0m\u001b[0mwarn_on_dtype\u001b[0m\u001b[1;33m,\u001b[0m\u001b[1;33m\u001b[0m\u001b[1;33m\u001b[0m\u001b[0m\n\u001b[1;32m--> 756\u001b[1;33m                     estimator=estimator)\n\u001b[0m\u001b[0;32m    757\u001b[0m     \u001b[1;32mif\u001b[0m \u001b[0mmulti_output\u001b[0m\u001b[1;33m:\u001b[0m\u001b[1;33m\u001b[0m\u001b[1;33m\u001b[0m\u001b[0m\n\u001b[0;32m    758\u001b[0m         y = check_array(y, 'csr', force_all_finite=True, ensure_2d=False,\n",
      "\u001b[1;32m~\\AppData\\Local\\Continuum\\anaconda3\\lib\\site-packages\\sklearn\\utils\\validation.py\u001b[0m in \u001b[0;36mcheck_array\u001b[1;34m(array, accept_sparse, accept_large_sparse, dtype, order, copy, force_all_finite, ensure_2d, allow_nd, ensure_min_samples, ensure_min_features, warn_on_dtype, estimator)\u001b[0m\n\u001b[0;32m    525\u001b[0m             \u001b[1;32mtry\u001b[0m\u001b[1;33m:\u001b[0m\u001b[1;33m\u001b[0m\u001b[1;33m\u001b[0m\u001b[0m\n\u001b[0;32m    526\u001b[0m                 \u001b[0mwarnings\u001b[0m\u001b[1;33m.\u001b[0m\u001b[0msimplefilter\u001b[0m\u001b[1;33m(\u001b[0m\u001b[1;34m'error'\u001b[0m\u001b[1;33m,\u001b[0m \u001b[0mComplexWarning\u001b[0m\u001b[1;33m)\u001b[0m\u001b[1;33m\u001b[0m\u001b[1;33m\u001b[0m\u001b[0m\n\u001b[1;32m--> 527\u001b[1;33m                 \u001b[0marray\u001b[0m \u001b[1;33m=\u001b[0m \u001b[0mnp\u001b[0m\u001b[1;33m.\u001b[0m\u001b[0masarray\u001b[0m\u001b[1;33m(\u001b[0m\u001b[0marray\u001b[0m\u001b[1;33m,\u001b[0m \u001b[0mdtype\u001b[0m\u001b[1;33m=\u001b[0m\u001b[0mdtype\u001b[0m\u001b[1;33m,\u001b[0m \u001b[0morder\u001b[0m\u001b[1;33m=\u001b[0m\u001b[0morder\u001b[0m\u001b[1;33m)\u001b[0m\u001b[1;33m\u001b[0m\u001b[1;33m\u001b[0m\u001b[0m\n\u001b[0m\u001b[0;32m    528\u001b[0m             \u001b[1;32mexcept\u001b[0m \u001b[0mComplexWarning\u001b[0m\u001b[1;33m:\u001b[0m\u001b[1;33m\u001b[0m\u001b[1;33m\u001b[0m\u001b[0m\n\u001b[0;32m    529\u001b[0m                 raise ValueError(\"Complex data not supported\\n\"\n",
      "\u001b[1;32m~\\AppData\\Local\\Continuum\\anaconda3\\lib\\site-packages\\numpy\\core\\numeric.py\u001b[0m in \u001b[0;36masarray\u001b[1;34m(a, dtype, order)\u001b[0m\n\u001b[0;32m    499\u001b[0m \u001b[1;33m\u001b[0m\u001b[0m\n\u001b[0;32m    500\u001b[0m     \"\"\"\n\u001b[1;32m--> 501\u001b[1;33m     \u001b[1;32mreturn\u001b[0m \u001b[0marray\u001b[0m\u001b[1;33m(\u001b[0m\u001b[0ma\u001b[0m\u001b[1;33m,\u001b[0m \u001b[0mdtype\u001b[0m\u001b[1;33m,\u001b[0m \u001b[0mcopy\u001b[0m\u001b[1;33m=\u001b[0m\u001b[1;32mFalse\u001b[0m\u001b[1;33m,\u001b[0m \u001b[0morder\u001b[0m\u001b[1;33m=\u001b[0m\u001b[0morder\u001b[0m\u001b[1;33m)\u001b[0m\u001b[1;33m\u001b[0m\u001b[1;33m\u001b[0m\u001b[0m\n\u001b[0m\u001b[0;32m    502\u001b[0m \u001b[1;33m\u001b[0m\u001b[0m\n\u001b[0;32m    503\u001b[0m \u001b[1;33m\u001b[0m\u001b[0m\n",
      "\u001b[1;31mValueError\u001b[0m: could not convert string to float: 'x_input'"
     ]
    }
   ],
   "source": [
    "from sklearn.svm import SVC\n",
    "svclassifier = SVC(kernel='linear')\n",
    "svclassifier.fit(X_train, y_train)"
   ]
  },
  {
   "cell_type": "code",
   "execution_count": 49,
   "metadata": {},
   "outputs": [
    {
     "ename": "NotFittedError",
     "evalue": "This SVC instance is not fitted yet. Call 'fit' with appropriate arguments before using this method.",
     "output_type": "error",
     "traceback": [
      "\u001b[1;31m---------------------------------------------------------------------------\u001b[0m",
      "\u001b[1;31mNotFittedError\u001b[0m                            Traceback (most recent call last)",
      "\u001b[1;32m<ipython-input-49-a5a62e7485a7>\u001b[0m in \u001b[0;36m<module>\u001b[1;34m\u001b[0m\n\u001b[1;32m----> 1\u001b[1;33m \u001b[0my_pred\u001b[0m \u001b[1;33m=\u001b[0m \u001b[0msvclassifier\u001b[0m\u001b[1;33m.\u001b[0m\u001b[0mpredict\u001b[0m\u001b[1;33m(\u001b[0m\u001b[0mX_test\u001b[0m\u001b[1;33m)\u001b[0m\u001b[1;33m\u001b[0m\u001b[1;33m\u001b[0m\u001b[0m\n\u001b[0m",
      "\u001b[1;32m~\\AppData\\Local\\Continuum\\anaconda3\\lib\\site-packages\\sklearn\\svm\\base.py\u001b[0m in \u001b[0;36mpredict\u001b[1;34m(self, X)\u001b[0m\n\u001b[0;32m    565\u001b[0m             \u001b[0mClass\u001b[0m \u001b[0mlabels\u001b[0m \u001b[1;32mfor\u001b[0m \u001b[0msamples\u001b[0m \u001b[1;32min\u001b[0m \u001b[0mX\u001b[0m\u001b[1;33m.\u001b[0m\u001b[1;33m\u001b[0m\u001b[1;33m\u001b[0m\u001b[0m\n\u001b[0;32m    566\u001b[0m         \"\"\"\n\u001b[1;32m--> 567\u001b[1;33m         \u001b[0my\u001b[0m \u001b[1;33m=\u001b[0m \u001b[0msuper\u001b[0m\u001b[1;33m(\u001b[0m\u001b[0mBaseSVC\u001b[0m\u001b[1;33m,\u001b[0m \u001b[0mself\u001b[0m\u001b[1;33m)\u001b[0m\u001b[1;33m.\u001b[0m\u001b[0mpredict\u001b[0m\u001b[1;33m(\u001b[0m\u001b[0mX\u001b[0m\u001b[1;33m)\u001b[0m\u001b[1;33m\u001b[0m\u001b[1;33m\u001b[0m\u001b[0m\n\u001b[0m\u001b[0;32m    568\u001b[0m         \u001b[1;32mreturn\u001b[0m \u001b[0mself\u001b[0m\u001b[1;33m.\u001b[0m\u001b[0mclasses_\u001b[0m\u001b[1;33m.\u001b[0m\u001b[0mtake\u001b[0m\u001b[1;33m(\u001b[0m\u001b[0mnp\u001b[0m\u001b[1;33m.\u001b[0m\u001b[0masarray\u001b[0m\u001b[1;33m(\u001b[0m\u001b[0my\u001b[0m\u001b[1;33m,\u001b[0m \u001b[0mdtype\u001b[0m\u001b[1;33m=\u001b[0m\u001b[0mnp\u001b[0m\u001b[1;33m.\u001b[0m\u001b[0mintp\u001b[0m\u001b[1;33m)\u001b[0m\u001b[1;33m)\u001b[0m\u001b[1;33m\u001b[0m\u001b[1;33m\u001b[0m\u001b[0m\n\u001b[0;32m    569\u001b[0m \u001b[1;33m\u001b[0m\u001b[0m\n",
      "\u001b[1;32m~\\AppData\\Local\\Continuum\\anaconda3\\lib\\site-packages\\sklearn\\svm\\base.py\u001b[0m in \u001b[0;36mpredict\u001b[1;34m(self, X)\u001b[0m\n\u001b[0;32m    323\u001b[0m         \u001b[0my_pred\u001b[0m \u001b[1;33m:\u001b[0m \u001b[0marray\u001b[0m\u001b[1;33m,\u001b[0m \u001b[0mshape\u001b[0m \u001b[1;33m(\u001b[0m\u001b[0mn_samples\u001b[0m\u001b[1;33m,\u001b[0m\u001b[1;33m)\u001b[0m\u001b[1;33m\u001b[0m\u001b[1;33m\u001b[0m\u001b[0m\n\u001b[0;32m    324\u001b[0m         \"\"\"\n\u001b[1;32m--> 325\u001b[1;33m         \u001b[0mX\u001b[0m \u001b[1;33m=\u001b[0m \u001b[0mself\u001b[0m\u001b[1;33m.\u001b[0m\u001b[0m_validate_for_predict\u001b[0m\u001b[1;33m(\u001b[0m\u001b[0mX\u001b[0m\u001b[1;33m)\u001b[0m\u001b[1;33m\u001b[0m\u001b[1;33m\u001b[0m\u001b[0m\n\u001b[0m\u001b[0;32m    326\u001b[0m         \u001b[0mpredict\u001b[0m \u001b[1;33m=\u001b[0m \u001b[0mself\u001b[0m\u001b[1;33m.\u001b[0m\u001b[0m_sparse_predict\u001b[0m \u001b[1;32mif\u001b[0m \u001b[0mself\u001b[0m\u001b[1;33m.\u001b[0m\u001b[0m_sparse\u001b[0m \u001b[1;32melse\u001b[0m \u001b[0mself\u001b[0m\u001b[1;33m.\u001b[0m\u001b[0m_dense_predict\u001b[0m\u001b[1;33m\u001b[0m\u001b[1;33m\u001b[0m\u001b[0m\n\u001b[0;32m    327\u001b[0m         \u001b[1;32mreturn\u001b[0m \u001b[0mpredict\u001b[0m\u001b[1;33m(\u001b[0m\u001b[0mX\u001b[0m\u001b[1;33m)\u001b[0m\u001b[1;33m\u001b[0m\u001b[1;33m\u001b[0m\u001b[0m\n",
      "\u001b[1;32m~\\AppData\\Local\\Continuum\\anaconda3\\lib\\site-packages\\sklearn\\svm\\base.py\u001b[0m in \u001b[0;36m_validate_for_predict\u001b[1;34m(self, X)\u001b[0m\n\u001b[0;32m    453\u001b[0m \u001b[1;33m\u001b[0m\u001b[0m\n\u001b[0;32m    454\u001b[0m     \u001b[1;32mdef\u001b[0m \u001b[0m_validate_for_predict\u001b[0m\u001b[1;33m(\u001b[0m\u001b[0mself\u001b[0m\u001b[1;33m,\u001b[0m \u001b[0mX\u001b[0m\u001b[1;33m)\u001b[0m\u001b[1;33m:\u001b[0m\u001b[1;33m\u001b[0m\u001b[1;33m\u001b[0m\u001b[0m\n\u001b[1;32m--> 455\u001b[1;33m         \u001b[0mcheck_is_fitted\u001b[0m\u001b[1;33m(\u001b[0m\u001b[0mself\u001b[0m\u001b[1;33m,\u001b[0m \u001b[1;34m'support_'\u001b[0m\u001b[1;33m)\u001b[0m\u001b[1;33m\u001b[0m\u001b[1;33m\u001b[0m\u001b[0m\n\u001b[0m\u001b[0;32m    456\u001b[0m \u001b[1;33m\u001b[0m\u001b[0m\n\u001b[0;32m    457\u001b[0m         X = check_array(X, accept_sparse='csr', dtype=np.float64, order=\"C\",\n",
      "\u001b[1;32m~\\AppData\\Local\\Continuum\\anaconda3\\lib\\site-packages\\sklearn\\utils\\validation.py\u001b[0m in \u001b[0;36mcheck_is_fitted\u001b[1;34m(estimator, attributes, msg, all_or_any)\u001b[0m\n\u001b[0;32m    949\u001b[0m \u001b[1;33m\u001b[0m\u001b[0m\n\u001b[0;32m    950\u001b[0m     \u001b[1;32mif\u001b[0m \u001b[1;32mnot\u001b[0m \u001b[0mall_or_any\u001b[0m\u001b[1;33m(\u001b[0m\u001b[1;33m[\u001b[0m\u001b[0mhasattr\u001b[0m\u001b[1;33m(\u001b[0m\u001b[0mestimator\u001b[0m\u001b[1;33m,\u001b[0m \u001b[0mattr\u001b[0m\u001b[1;33m)\u001b[0m \u001b[1;32mfor\u001b[0m \u001b[0mattr\u001b[0m \u001b[1;32min\u001b[0m \u001b[0mattributes\u001b[0m\u001b[1;33m]\u001b[0m\u001b[1;33m)\u001b[0m\u001b[1;33m:\u001b[0m\u001b[1;33m\u001b[0m\u001b[1;33m\u001b[0m\u001b[0m\n\u001b[1;32m--> 951\u001b[1;33m         \u001b[1;32mraise\u001b[0m \u001b[0mNotFittedError\u001b[0m\u001b[1;33m(\u001b[0m\u001b[0mmsg\u001b[0m \u001b[1;33m%\u001b[0m \u001b[1;33m{\u001b[0m\u001b[1;34m'name'\u001b[0m\u001b[1;33m:\u001b[0m \u001b[0mtype\u001b[0m\u001b[1;33m(\u001b[0m\u001b[0mestimator\u001b[0m\u001b[1;33m)\u001b[0m\u001b[1;33m.\u001b[0m\u001b[0m__name__\u001b[0m\u001b[1;33m}\u001b[0m\u001b[1;33m)\u001b[0m\u001b[1;33m\u001b[0m\u001b[1;33m\u001b[0m\u001b[0m\n\u001b[0m\u001b[0;32m    952\u001b[0m \u001b[1;33m\u001b[0m\u001b[0m\n\u001b[0;32m    953\u001b[0m \u001b[1;33m\u001b[0m\u001b[0m\n",
      "\u001b[1;31mNotFittedError\u001b[0m: This SVC instance is not fitted yet. Call 'fit' with appropriate arguments before using this method."
     ]
    }
   ],
   "source": [
    "y_pred = svclassifier.predict(X_test)"
   ]
  },
  {
   "cell_type": "code",
   "execution_count": 93,
   "metadata": {},
   "outputs": [
    {
     "data": {
      "text/plain": [
       "array(['X_input', 'Stand on my point , will let go',\n",
       "       'Teamwork , Performance', 'Teamwork , Performance',\n",
       "       'Yes usually no', 'Openly express , Sometimes I do respect',\n",
       "       'Yes , No ', 'YES ', 'Confront'], dtype=object)"
      ]
     },
     "execution_count": 93,
     "metadata": {},
     "output_type": "execute_result"
    }
   ],
   "source": [
    "y_pred"
   ]
  },
  {
   "cell_type": "code",
   "execution_count": 97,
   "metadata": {},
   "outputs": [
    {
     "name": "stdout",
     "output_type": "stream",
     "text": [
      "[[1 0 0 0 0 0 0 0]\n",
      " [0 1 0 0 0 0 0 0]\n",
      " [0 0 1 0 0 0 0 0]\n",
      " [0 0 0 0 0 0 0 0]\n",
      " [0 0 0 0 1 0 0 0]\n",
      " [0 0 0 2 0 1 0 0]\n",
      " [0 0 0 0 0 0 1 0]\n",
      " [0 0 0 0 0 0 0 1]]\n"
     ]
    }
   ],
   "source": [
    "#CONFUSION METRICS\n",
    "from sklearn.metrics import classification_report, confusion_matrix\n",
    "print(confusion_matrix(y_test,y_pred))\n",
    "#print(classification_report(y_test,y_pred))"
   ]
  },
  {
   "cell_type": "code",
   "execution_count": 175,
   "metadata": {},
   "outputs": [],
   "source": [
    "a = \"My team members are not co-operative\""
   ]
  },
  {
   "cell_type": "code",
   "execution_count": 230,
   "metadata": {},
   "outputs": [
    {
     "ename": "ValueError",
     "evalue": "bad input shape ()",
     "output_type": "error",
     "traceback": [
      "\u001b[1;31m---------------------------------------------------------------------------\u001b[0m",
      "\u001b[1;31mValueError\u001b[0m                                Traceback (most recent call last)",
      "\u001b[1;32m<ipython-input-230-a9148651b42f>\u001b[0m in \u001b[0;36m<module>\u001b[1;34m\u001b[0m\n\u001b[0;32m      1\u001b[0m \u001b[1;32mfrom\u001b[0m \u001b[0msklearn\u001b[0m\u001b[1;33m.\u001b[0m\u001b[0mpreprocessing\u001b[0m \u001b[1;32mimport\u001b[0m \u001b[0mLabelEncoder\u001b[0m\u001b[1;33m\u001b[0m\u001b[1;33m\u001b[0m\u001b[0m\n\u001b[0;32m      2\u001b[0m \u001b[0mencoder\u001b[0m \u001b[1;33m=\u001b[0m \u001b[0mLabelEncoder\u001b[0m\u001b[1;33m(\u001b[0m\u001b[1;33m)\u001b[0m\u001b[1;33m\u001b[0m\u001b[1;33m\u001b[0m\u001b[0m\n\u001b[1;32m----> 3\u001b[1;33m \u001b[0mencoder\u001b[0m\u001b[1;33m.\u001b[0m\u001b[0mfit\u001b[0m\u001b[1;33m(\u001b[0m\u001b[0ma\u001b[0m\u001b[1;33m)\u001b[0m\u001b[1;33m\u001b[0m\u001b[1;33m\u001b[0m\u001b[0m\n\u001b[0m\u001b[0;32m      4\u001b[0m \u001b[0mencoded_Y\u001b[0m \u001b[1;33m=\u001b[0m \u001b[0mencoder\u001b[0m\u001b[1;33m.\u001b[0m\u001b[0mfit_transform\u001b[0m\u001b[1;33m(\u001b[0m\u001b[0ma\u001b[0m\u001b[1;33m)\u001b[0m\u001b[1;33m\u001b[0m\u001b[1;33m\u001b[0m\u001b[0m\n",
      "\u001b[1;32m~\\AppData\\Local\\Continuum\\anaconda3\\lib\\site-packages\\sklearn\\preprocessing\\label.py\u001b[0m in \u001b[0;36mfit\u001b[1;34m(self, y)\u001b[0m\n\u001b[0;32m    217\u001b[0m         \u001b[0mself\u001b[0m \u001b[1;33m:\u001b[0m \u001b[0mreturns\u001b[0m \u001b[0man\u001b[0m \u001b[0minstance\u001b[0m \u001b[0mof\u001b[0m \u001b[0mself\u001b[0m\u001b[1;33m.\u001b[0m\u001b[1;33m\u001b[0m\u001b[1;33m\u001b[0m\u001b[0m\n\u001b[0;32m    218\u001b[0m         \"\"\"\n\u001b[1;32m--> 219\u001b[1;33m         \u001b[0my\u001b[0m \u001b[1;33m=\u001b[0m \u001b[0mcolumn_or_1d\u001b[0m\u001b[1;33m(\u001b[0m\u001b[0my\u001b[0m\u001b[1;33m,\u001b[0m \u001b[0mwarn\u001b[0m\u001b[1;33m=\u001b[0m\u001b[1;32mTrue\u001b[0m\u001b[1;33m)\u001b[0m\u001b[1;33m\u001b[0m\u001b[1;33m\u001b[0m\u001b[0m\n\u001b[0m\u001b[0;32m    220\u001b[0m         \u001b[0mself\u001b[0m\u001b[1;33m.\u001b[0m\u001b[0mclasses_\u001b[0m \u001b[1;33m=\u001b[0m \u001b[0m_encode\u001b[0m\u001b[1;33m(\u001b[0m\u001b[0my\u001b[0m\u001b[1;33m)\u001b[0m\u001b[1;33m\u001b[0m\u001b[1;33m\u001b[0m\u001b[0m\n\u001b[0;32m    221\u001b[0m         \u001b[1;32mreturn\u001b[0m \u001b[0mself\u001b[0m\u001b[1;33m\u001b[0m\u001b[1;33m\u001b[0m\u001b[0m\n",
      "\u001b[1;32m~\\AppData\\Local\\Continuum\\anaconda3\\lib\\site-packages\\sklearn\\utils\\validation.py\u001b[0m in \u001b[0;36mcolumn_or_1d\u001b[1;34m(y, warn)\u001b[0m\n\u001b[0;32m    795\u001b[0m         \u001b[1;32mreturn\u001b[0m \u001b[0mnp\u001b[0m\u001b[1;33m.\u001b[0m\u001b[0mravel\u001b[0m\u001b[1;33m(\u001b[0m\u001b[0my\u001b[0m\u001b[1;33m)\u001b[0m\u001b[1;33m\u001b[0m\u001b[1;33m\u001b[0m\u001b[0m\n\u001b[0;32m    796\u001b[0m \u001b[1;33m\u001b[0m\u001b[0m\n\u001b[1;32m--> 797\u001b[1;33m     \u001b[1;32mraise\u001b[0m \u001b[0mValueError\u001b[0m\u001b[1;33m(\u001b[0m\u001b[1;34m\"bad input shape {0}\"\u001b[0m\u001b[1;33m.\u001b[0m\u001b[0mformat\u001b[0m\u001b[1;33m(\u001b[0m\u001b[0mshape\u001b[0m\u001b[1;33m)\u001b[0m\u001b[1;33m)\u001b[0m\u001b[1;33m\u001b[0m\u001b[1;33m\u001b[0m\u001b[0m\n\u001b[0m\u001b[0;32m    798\u001b[0m \u001b[1;33m\u001b[0m\u001b[0m\n\u001b[0;32m    799\u001b[0m \u001b[1;33m\u001b[0m\u001b[0m\n",
      "\u001b[1;31mValueError\u001b[0m: bad input shape ()"
     ]
    }
   ],
   "source": [
    "from sklearn.preprocessing import LabelEncoder\n",
    "encoder = LabelEncoder()\n",
    "encoder.fit(a)\n",
    "encoded_Y = encoder.fit_transform(a)"
   ]
  },
  {
   "cell_type": "code",
   "execution_count": 176,
   "metadata": {},
   "outputs": [],
   "source": [
    "tokens1 = word_tokenize(str(a))"
   ]
  },
  {
   "cell_type": "code",
   "execution_count": 177,
   "metadata": {},
   "outputs": [
    {
     "data": {
      "text/plain": [
       "['My', 'team', 'members', 'are', 'not', 'co-operative']"
      ]
     },
     "execution_count": 177,
     "metadata": {},
     "output_type": "execute_result"
    }
   ],
   "source": [
    "tokens1"
   ]
  },
  {
   "cell_type": "code",
   "execution_count": 178,
   "metadata": {},
   "outputs": [],
   "source": [
    "from nltk.tokenize.treebank import TreebankWordDetokenizer\n",
    "from nltk.stem import PorterStemmer "
   ]
  },
  {
   "cell_type": "code",
   "execution_count": 179,
   "metadata": {},
   "outputs": [],
   "source": [
    "PS = PorterStemmer()"
   ]
  },
  {
   "cell_type": "code",
   "execution_count": 190,
   "metadata": {},
   "outputs": [],
   "source": [
    "for sent in a: \n",
    "    tk1 = [] \n",
    "    tokens1 = word_tokenize(sent) \n",
    "    \n",
    "for word in tokens1:\n",
    "    stemmed1 = PS.stem(word)\n",
    "    tk1.append(stemmed1) \n",
    "    \n"
   ]
  },
  {
   "cell_type": "code",
   "execution_count": 198,
   "metadata": {},
   "outputs": [],
   "source": [
    "y = TreebankWordDetokenizer().detokenize(a) "
   ]
  },
  {
   "cell_type": "code",
   "execution_count": 199,
   "metadata": {},
   "outputs": [
    {
     "data": {
      "text/plain": [
       "'M y   t e a m   m e m b e r s   a r e   n o t   c o - o p e r a t i v e'"
      ]
     },
     "execution_count": 199,
     "metadata": {},
     "output_type": "execute_result"
    }
   ],
   "source": [
    "y"
   ]
  },
  {
   "cell_type": "code",
   "execution_count": 226,
   "metadata": {},
   "outputs": [],
   "source": [
    "stop_words1 = set(stopwords.words(\"english\"))"
   ]
  },
  {
   "cell_type": "code",
   "execution_count": 227,
   "metadata": {},
   "outputs": [
    {
     "data": {
      "text/plain": [
       "{'a',\n",
       " 'about',\n",
       " 'above',\n",
       " 'after',\n",
       " 'again',\n",
       " 'against',\n",
       " 'ain',\n",
       " 'all',\n",
       " 'am',\n",
       " 'an',\n",
       " 'and',\n",
       " 'any',\n",
       " 'are',\n",
       " 'aren',\n",
       " \"aren't\",\n",
       " 'as',\n",
       " 'at',\n",
       " 'be',\n",
       " 'because',\n",
       " 'been',\n",
       " 'before',\n",
       " 'being',\n",
       " 'below',\n",
       " 'between',\n",
       " 'both',\n",
       " 'but',\n",
       " 'by',\n",
       " 'can',\n",
       " 'couldn',\n",
       " \"couldn't\",\n",
       " 'd',\n",
       " 'did',\n",
       " 'didn',\n",
       " \"didn't\",\n",
       " 'do',\n",
       " 'does',\n",
       " 'doesn',\n",
       " \"doesn't\",\n",
       " 'doing',\n",
       " 'don',\n",
       " \"don't\",\n",
       " 'down',\n",
       " 'during',\n",
       " 'each',\n",
       " 'few',\n",
       " 'for',\n",
       " 'from',\n",
       " 'further',\n",
       " 'had',\n",
       " 'hadn',\n",
       " \"hadn't\",\n",
       " 'has',\n",
       " 'hasn',\n",
       " \"hasn't\",\n",
       " 'have',\n",
       " 'haven',\n",
       " \"haven't\",\n",
       " 'having',\n",
       " 'he',\n",
       " 'her',\n",
       " 'here',\n",
       " 'hers',\n",
       " 'herself',\n",
       " 'him',\n",
       " 'himself',\n",
       " 'his',\n",
       " 'how',\n",
       " 'i',\n",
       " 'if',\n",
       " 'in',\n",
       " 'into',\n",
       " 'is',\n",
       " 'isn',\n",
       " \"isn't\",\n",
       " 'it',\n",
       " \"it's\",\n",
       " 'its',\n",
       " 'itself',\n",
       " 'just',\n",
       " 'll',\n",
       " 'm',\n",
       " 'ma',\n",
       " 'me',\n",
       " 'mightn',\n",
       " \"mightn't\",\n",
       " 'more',\n",
       " 'most',\n",
       " 'mustn',\n",
       " \"mustn't\",\n",
       " 'my',\n",
       " 'myself',\n",
       " 'needn',\n",
       " \"needn't\",\n",
       " 'no',\n",
       " 'nor',\n",
       " 'not',\n",
       " 'now',\n",
       " 'o',\n",
       " 'of',\n",
       " 'off',\n",
       " 'on',\n",
       " 'once',\n",
       " 'only',\n",
       " 'or',\n",
       " 'other',\n",
       " 'our',\n",
       " 'ours',\n",
       " 'ourselves',\n",
       " 'out',\n",
       " 'over',\n",
       " 'own',\n",
       " 're',\n",
       " 's',\n",
       " 'same',\n",
       " 'shan',\n",
       " \"shan't\",\n",
       " 'she',\n",
       " \"she's\",\n",
       " 'should',\n",
       " \"should've\",\n",
       " 'shouldn',\n",
       " \"shouldn't\",\n",
       " 'so',\n",
       " 'some',\n",
       " 'such',\n",
       " 't',\n",
       " 'than',\n",
       " 'that',\n",
       " \"that'll\",\n",
       " 'the',\n",
       " 'their',\n",
       " 'theirs',\n",
       " 'them',\n",
       " 'themselves',\n",
       " 'then',\n",
       " 'there',\n",
       " 'these',\n",
       " 'they',\n",
       " 'this',\n",
       " 'those',\n",
       " 'through',\n",
       " 'to',\n",
       " 'too',\n",
       " 'under',\n",
       " 'until',\n",
       " 'up',\n",
       " 've',\n",
       " 'very',\n",
       " 'was',\n",
       " 'wasn',\n",
       " \"wasn't\",\n",
       " 'we',\n",
       " 'were',\n",
       " 'weren',\n",
       " \"weren't\",\n",
       " 'what',\n",
       " 'when',\n",
       " 'where',\n",
       " 'which',\n",
       " 'while',\n",
       " 'who',\n",
       " 'whom',\n",
       " 'why',\n",
       " 'will',\n",
       " 'with',\n",
       " 'won',\n",
       " \"won't\",\n",
       " 'wouldn',\n",
       " \"wouldn't\",\n",
       " 'y',\n",
       " 'you',\n",
       " \"you'd\",\n",
       " \"you'll\",\n",
       " \"you're\",\n",
       " \"you've\",\n",
       " 'your',\n",
       " 'yours',\n",
       " 'yourself',\n",
       " 'yourselves'}"
      ]
     },
     "execution_count": 227,
     "metadata": {},
     "output_type": "execute_result"
    }
   ],
   "source": [
    "stop_words1"
   ]
  },
  {
   "cell_type": "code",
   "execution_count": 228,
   "metadata": {},
   "outputs": [
    {
     "name": "stdout",
     "output_type": "stream",
     "text": [
      "Total Stop words in english are ====> 179\n"
     ]
    }
   ],
   "source": [
    "lens1 = len(stop_words1)\n",
    "print(\"Total Stop words in english are ====> {}\".format(lens1))"
   ]
  },
  {
   "cell_type": "code",
   "execution_count": 229,
   "metadata": {},
   "outputs": [],
   "source": [
    "#for sent in Final_sentence1:\n",
    "    #words_tokens1= word_tokenize(sent)\n",
    "   # filtered_sentence1 = [word for word in words_tokens1 if word not in stop_words1] \n",
    "f= TreebankWordDetokenizer().detokenize(a)\n",
    "    #Total_final_sentence.append(z)"
   ]
  },
  {
   "cell_type": "code",
   "execution_count": 212,
   "metadata": {},
   "outputs": [
    {
     "data": {
      "text/plain": [
       "'M y   t e a m   m e m b e r s   a r e   n o t   c o - o p e r a t i v e'"
      ]
     },
     "execution_count": 212,
     "metadata": {},
     "output_type": "execute_result"
    }
   ],
   "source": [
    "f"
   ]
  },
  {
   "cell_type": "code",
   "execution_count": 214,
   "metadata": {},
   "outputs": [],
   "source": [
    "max_words1 = 10000"
   ]
  },
  {
   "cell_type": "code",
   "execution_count": 216,
   "metadata": {},
   "outputs": [],
   "source": [
    "tokenizer1 = Tokenizer(num_words =max_words1)"
   ]
  },
  {
   "cell_type": "code",
   "execution_count": 217,
   "metadata": {},
   "outputs": [],
   "source": [
    "tokenizer1.fit_on_texts(f)\n",
    "sequences1 = tokenizer1.texts_to_sequences(f)"
   ]
  },
  {
   "cell_type": "code",
   "execution_count": 218,
   "metadata": {},
   "outputs": [
    {
     "name": "stdout",
     "output_type": "stream",
     "text": [
      "Found 14 unique tokens.\n"
     ]
    }
   ],
   "source": [
    "word_index1 = tokenizer1.word_index\n",
    "print('Found %s unique tokens.' % len(word_index1))"
   ]
  },
  {
   "cell_type": "code",
   "execution_count": 222,
   "metadata": {},
   "outputs": [],
   "source": [
    "maxlen1 = 100\n",
    "padding1 = pad_sequences(sequences1, maxlen=maxlen1)"
   ]
  },
  {
   "cell_type": "code",
   "execution_count": 223,
   "metadata": {},
   "outputs": [
    {
     "ename": "AttributeError",
     "evalue": "'str' object has no attribute 'shape'",
     "output_type": "error",
     "traceback": [
      "\u001b[1;31m---------------------------------------------------------------------------\u001b[0m",
      "\u001b[1;31mAttributeError\u001b[0m                            Traceback (most recent call last)",
      "\u001b[1;32m<ipython-input-223-d74f1bcdd37c>\u001b[0m in \u001b[0;36m<module>\u001b[1;34m\u001b[0m\n\u001b[1;32m----> 1\u001b[1;33m \u001b[0ma\u001b[0m\u001b[1;33m.\u001b[0m\u001b[0mshape\u001b[0m\u001b[1;33m\u001b[0m\u001b[1;33m\u001b[0m\u001b[0m\n\u001b[0m",
      "\u001b[1;31mAttributeError\u001b[0m: 'str' object has no attribute 'shape'"
     ]
    }
   ],
   "source": [
    "a.shape"
   ]
  },
  {
   "cell_type": "code",
   "execution_count": null,
   "metadata": {},
   "outputs": [],
   "source": []
  }
 ],
 "metadata": {
  "kernelspec": {
   "display_name": "Python 3",
   "language": "python",
   "name": "python3"
  },
  "language_info": {
   "codemirror_mode": {
    "name": "ipython",
    "version": 3
   },
   "file_extension": ".py",
   "mimetype": "text/x-python",
   "name": "python",
   "nbconvert_exporter": "python",
   "pygments_lexer": "ipython3",
   "version": "3.7.5"
  }
 },
 "nbformat": 4,
 "nbformat_minor": 2
}
