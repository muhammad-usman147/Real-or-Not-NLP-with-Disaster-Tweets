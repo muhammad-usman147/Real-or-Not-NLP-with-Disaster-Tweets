{
  "nbformat": 4,
  "nbformat_minor": 0,
  "metadata": {
    "colab": {
      "name": "Project1.ipynb",
      "provenance": [],
      "collapsed_sections": [],
      "toc_visible": true,
      "machine_shape": "hm"
    },
    "kernelspec": {
      "name": "python3",
      "display_name": "Python 3"
    }
  },
  "cells": [
    {
      "cell_type": "code",
      "metadata": {
        "id": "PS6qsQKgf_g7",
        "colab_type": "code",
        "colab": {}
      },
      "source": [
        "from google.colab import drive"
      ],
      "execution_count": 0,
      "outputs": []
    },
    {
      "cell_type": "markdown",
      "metadata": {
        "colab_type": "text",
        "id": "58BHZQyJqZlx"
      },
      "source": [
        "connecting google drive to colab "
      ]
    },
    {
      "cell_type": "code",
      "metadata": {
        "colab_type": "code",
        "outputId": "abe6c901-6732-445a-cb58-2370bb5baec4",
        "id": "aDhDjKzSqZFJ",
        "colab": {
          "base_uri": "https://localhost:8080/",
          "height": 55
        }
      },
      "source": [
        "drive.mount('/content/gdrive')"
      ],
      "execution_count": 0,
      "outputs": [
        {
          "output_type": "stream",
          "text": [
            "Drive already mounted at /content/gdrive; to attempt to forcibly remount, call drive.mount(\"/content/gdrive\", force_remount=True).\n"
          ],
          "name": "stdout"
        }
      ]
    },
    {
      "cell_type": "markdown",
      "metadata": {
        "id": "cfcRMLtAqSjO",
        "colab_type": "text"
      },
      "source": [
        "importing operating system "
      ]
    },
    {
      "cell_type": "code",
      "metadata": {
        "id": "nunKwqCGgwuz",
        "colab_type": "code",
        "colab": {}
      },
      "source": [
        "import os"
      ],
      "execution_count": 0,
      "outputs": []
    },
    {
      "cell_type": "code",
      "metadata": {
        "id": "7vRxkMW1i4HZ",
        "colab_type": "code",
        "outputId": "0a74249d-182a-4cf7-bacc-61d4b3a65a94",
        "colab": {
          "base_uri": "https://localhost:8080/",
          "height": 199
        }
      },
      "source": [
        "os.listdir()"
      ],
      "execution_count": 0,
      "outputs": [
        {
          "output_type": "execute_result",
          "data": {
            "text/plain": [
              "['.config',\n",
              " 'ISIC_2019_Training_Input',\n",
              " 'efficientnet-b2_imagenet_1000_notop.h5',\n",
              " 'efficientnet-b1_imagenet_1000_notop.h5',\n",
              " 'efficientnet-b0_imagenet_1000_notop.h5',\n",
              " 'gdrive',\n",
              " 'efficientnet-b3_imagenet_1000_notop.h5',\n",
              " 'efficientnet-b5_imagenet_1000_notop.h5',\n",
              " 'efficientnet-b4_imagenet_1000_notop.h5',\n",
              " 'sample_data']"
            ]
          },
          "metadata": {
            "tags": []
          },
          "execution_count": 15
        }
      ]
    },
    {
      "cell_type": "markdown",
      "metadata": {
        "id": "SIr01n8MqiJx",
        "colab_type": "text"
      },
      "source": [
        "Returning the list of entries present in the directory "
      ]
    },
    {
      "cell_type": "markdown",
      "metadata": {
        "id": "nH05uS-bqyKm",
        "colab_type": "text"
      },
      "source": [
        "Further given the folder to check the entries present in it."
      ]
    },
    {
      "cell_type": "markdown",
      "metadata": {
        "id": "zIJ2krpOq9jp",
        "colab_type": "text"
      },
      "source": [
        "To unzip the model file"
      ]
    },
    {
      "cell_type": "code",
      "metadata": {
        "id": "sIhAEqeuoF3s",
        "colab_type": "code",
        "colab": {}
      },
      "source": [
        "import zipfile\n",
        "model_path = 'gdrive/My Drive/efficientnet-keras-weights-b0b5.zip' #uploading model path\n",
        "zip_ref = zipfile.ZipFile(model_path, 'r')\n",
        "zip_ref.extractall()\n",
        "zip_ref.close()"
      ],
      "execution_count": 0,
      "outputs": []
    },
    {
      "cell_type": "markdown",
      "metadata": {
        "id": "_EJX3hT2rCr6",
        "colab_type": "text"
      },
      "source": [
        "Again to make sure that the unzip files are present in the desired directory "
      ]
    },
    {
      "cell_type": "code",
      "metadata": {
        "id": "W0oWK2LkoHlu",
        "colab_type": "code",
        "outputId": "6fd6efe9-dc62-4470-b019-76c41d30f01a",
        "colab": {
          "base_uri": "https://localhost:8080/",
          "height": 181
        }
      },
      "source": [
        "os.listdir()"
      ],
      "execution_count": 0,
      "outputs": [
        {
          "output_type": "execute_result",
          "data": {
            "text/plain": [
              "['.config',\n",
              " 'efficientnet-b2_imagenet_1000_notop.h5',\n",
              " 'efficientnet-b1_imagenet_1000_notop.h5',\n",
              " 'efficientnet-b0_imagenet_1000_notop.h5',\n",
              " 'gdrive',\n",
              " 'efficientnet-b3_imagenet_1000_notop.h5',\n",
              " 'efficientnet-b5_imagenet_1000_notop.h5',\n",
              " 'efficientnet-b4_imagenet_1000_notop.h5',\n",
              " 'sample_data']"
            ]
          },
          "metadata": {
            "tags": []
          },
          "execution_count": 8
        }
      ]
    },
    {
      "cell_type": "code",
      "metadata": {
        "id": "pe2zXS5-gD-H",
        "colab_type": "code",
        "colab": {}
      },
      "source": [
        "#To unzip the model\n"
      ],
      "execution_count": 0,
      "outputs": []
    },
    {
      "cell_type": "code",
      "metadata": {
        "id": "5Qd4dJkKgMRg",
        "colab_type": "code",
        "colab": {}
      },
      "source": [
        "import zipfile\n",
        "model_path = 'gdrive/My Drive/ISIC_2019_Training_Input.zip' #uploading model path\n",
        "zip_ref = zipfile.ZipFile(model_path, 'r')\n",
        "zip_ref.extractall()\n",
        "zip_ref.close()"
      ],
      "execution_count": 0,
      "outputs": []
    },
    {
      "cell_type": "code",
      "metadata": {
        "id": "9HaGvBMzgVbW",
        "colab_type": "code",
        "colab": {}
      },
      "source": [
        "os.listdir()"
      ],
      "execution_count": 0,
      "outputs": []
    },
    {
      "cell_type": "code",
      "metadata": {
        "id": "QxNtuh9Oncin",
        "colab_type": "code",
        "colab": {}
      },
      "source": [
        "os.listdir('ISIC_2019_Training_Input')"
      ],
      "execution_count": 0,
      "outputs": []
    },
    {
      "cell_type": "code",
      "metadata": {
        "id": "ERS0bJfjnsKP",
        "colab_type": "code",
        "colab": {}
      },
      "source": [
        "len(os.listdir('ISIC_2019_Training_Input'))"
      ],
      "execution_count": 0,
      "outputs": []
    },
    {
      "cell_type": "code",
      "metadata": {
        "id": "cN-UxHSgn9Ql",
        "colab_type": "code",
        "colab": {}
      },
      "source": [
        "#resize using opencv"
      ],
      "execution_count": 0,
      "outputs": []
    },
    {
      "cell_type": "code",
      "metadata": {
        "id": "ehomrrotoL51",
        "colab_type": "code",
        "colab": {}
      },
      "source": [
        "import cv2"
      ],
      "execution_count": 0,
      "outputs": []
    },
    {
      "cell_type": "code",
      "metadata": {
        "id": "gv_doXYtoO6F",
        "colab_type": "code",
        "colab": {}
      },
      "source": [
        "images_name = os.listdir('ISIC_2019_Training_Input')"
      ],
      "execution_count": 0,
      "outputs": []
    },
    {
      "cell_type": "code",
      "metadata": {
        "id": "kC70eerWoaCX",
        "colab_type": "code",
        "colab": {}
      },
      "source": [
        "images_list=[]\n",
        "non_jpg_images = 0 #to count all non jpg images\n",
        "for name in images_name:\n",
        "  if 'jpg' in name:\n",
        "    images = cv2.imread('ISIC_2019_Training_Input/'+name)\n",
        "    print('ISIC_2019_Training_Input/'+name)\n",
        "    resized_images = cv2.resize(images, (456,456))\n",
        "    images_list.append(resized_images)\n",
        "  else:\n",
        "    non_jpg_images +=1\n",
        "\n"
      ],
      "execution_count": 0,
      "outputs": []
    },
    {
      "cell_type": "code",
      "metadata": {
        "id": "ClcATeU1p7kb",
        "colab_type": "code",
        "colab": {}
      },
      "source": [
        "#Labels generate\n",
        "'ISIC_2019_Training_Input/ISIC_0031940.jpg' in images_name"
      ],
      "execution_count": 0,
      "outputs": []
    },
    {
      "cell_type": "code",
      "metadata": {
        "id": "2G1ZNRLbrDpv",
        "colab_type": "code",
        "colab": {}
      },
      "source": [
        "len(images_list)"
      ],
      "execution_count": 0,
      "outputs": []
    },
    {
      "cell_type": "code",
      "metadata": {
        "id": "M3tBavppXKY2",
        "colab_type": "code",
        "colab": {}
      },
      "source": [
        ""
      ],
      "execution_count": 0,
      "outputs": []
    }
  ]
}